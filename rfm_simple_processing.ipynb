{
 "cells": [
  {
   "cell_type": "markdown",
   "id": "cc4be360-50f7-4cbf-a3d9-1cf0a40b04ce",
   "metadata": {},
   "source": [
    "## IMPORT LIBRARIES"
   ]
  },
  {
   "cell_type": "code",
   "execution_count": 1,
   "id": "472421f2-9958-4517-8369-d701d486a2c2",
   "metadata": {
    "tags": []
   },
   "outputs": [],
   "source": [
    "# Importing Libraries\n",
    "\n",
    "# Data Wrangling\n",
    "import numpy as np\n",
    "import pandas as pd\n",
    "\n",
    "# Data Visualization\n",
    "import matplotlib.pyplot as plt\n",
    "import seaborn as sns\n",
    "\n",
    "# Filter Warning\n",
    "import warnings\n",
    "warnings.filterwarnings(\"ignore\")"
   ]
  },
  {
   "cell_type": "markdown",
   "id": "c4ef57eb-1b07-4b72-a096-c8c142981778",
   "metadata": {},
   "source": [
    "## OVERVIEW"
   ]
  },
  {
   "cell_type": "code",
   "execution_count": 2,
   "id": "dc322aa1-8ae2-449c-89fe-00a3cca45fbb",
   "metadata": {
    "tags": []
   },
   "outputs": [],
   "source": [
    "# Load data\n",
    "df = pd.read_csv(\"data/rfm_data.csv\")"
   ]
  },
  {
   "cell_type": "code",
   "execution_count": 3,
   "id": "cd0fa1bd-ee4a-4caf-9114-e5ea71aa9056",
   "metadata": {
    "tags": []
   },
   "outputs": [
    {
     "name": "stdout",
     "output_type": "stream",
     "text": [
      "<class 'pandas.core.frame.DataFrame'>\n",
      "RangeIndex: 1000 entries, 0 to 999\n",
      "Data columns (total 6 columns):\n",
      " #   Column              Non-Null Count  Dtype  \n",
      "---  ------              --------------  -----  \n",
      " 0   CustomerID          1000 non-null   int64  \n",
      " 1   PurchaseDate        1000 non-null   object \n",
      " 2   TransactionAmount   1000 non-null   float64\n",
      " 3   ProductInformation  1000 non-null   object \n",
      " 4   OrderID             1000 non-null   int64  \n",
      " 5   Location            1000 non-null   object \n",
      "dtypes: float64(1), int64(2), object(3)\n",
      "memory usage: 47.0+ KB\n"
     ]
    }
   ],
   "source": [
    "# Check info\n",
    "df.info()"
   ]
  },
  {
   "cell_type": "markdown",
   "id": "db1396c0-06c9-49cf-9fc7-d2106fe5165c",
   "metadata": {},
   "source": [
    "## PREPROCESSING \n",
    "\n",
    "### GET RFM VALUES"
   ]
  },
  {
   "cell_type": "code",
   "execution_count": 4,
   "id": "bd4ee22e-20e7-4d89-8e4f-b3575616ebec",
   "metadata": {
    "tags": []
   },
   "outputs": [],
   "source": [
    "# Check Last date\n",
    "max_date = pd.to_datetime(df[\"PurchaseDate\"].max())"
   ]
  },
  {
   "cell_type": "code",
   "execution_count": 5,
   "id": "7607a8ae-2cee-4a71-ba40-546a34ad9ce2",
   "metadata": {
    "tags": []
   },
   "outputs": [],
   "source": [
    "# Insert to dataframe\n",
    "df[\"LastPurchase\"] = max_date"
   ]
  },
  {
   "cell_type": "code",
   "execution_count": 7,
   "id": "5227c9cf-1f95-4d15-ba69-50f35eb733e5",
   "metadata": {
    "tags": []
   },
   "outputs": [],
   "source": [
    "# Change to datetime\n",
    "df[\"PurchaseDate\"] = pd.to_datetime(df[\"PurchaseDate\"])"
   ]
  },
  {
   "cell_type": "code",
   "execution_count": 12,
   "id": "7809f731-b80d-4aad-8d51-a7ad372e5aa9",
   "metadata": {
    "tags": []
   },
   "outputs": [],
   "source": [
    "# Get Recency\n",
    "df[\"Recency\"] = df[\"LastPurchase\"] - df[\"PurchaseDate\"]\n",
    "df[\"Recency\"] = df[\"Recency\"].dt.days"
   ]
  },
  {
   "cell_type": "code",
   "execution_count": 18,
   "id": "6f15330b-1947-4c48-a2ca-8a15230c92aa",
   "metadata": {
    "tags": []
   },
   "outputs": [],
   "source": [
    "# Get Frequency\n",
    "freq = df.groupby(\"CustomerID\", as_index=False)[\"OrderID\"].count()\n",
    "freq = freq.rename(columns={\"OrderID\":\"Frequency\"})"
   ]
  },
  {
   "cell_type": "code",
   "execution_count": 20,
   "id": "e6d4d19b-9691-48dc-8602-d4e9ecc0d976",
   "metadata": {
    "tags": []
   },
   "outputs": [],
   "source": [
    "# Merge Frequency vals to original df\n",
    "df_new = pd.merge(df, freq, on =\"CustomerID\")"
   ]
  },
  {
   "cell_type": "code",
   "execution_count": 22,
   "id": "54253009-9687-4925-97bf-dbc8b906a5e9",
   "metadata": {
    "tags": []
   },
   "outputs": [],
   "source": [
    "# Get Monetary\n",
    "mone = df.groupby(\"CustomerID\", as_index=False)[\"TransactionAmount\"].sum()\n",
    "mone = mone.rename(columns={\"TransactionAmount\":\"Monetary\"})"
   ]
  },
  {
   "cell_type": "code",
   "execution_count": 23,
   "id": "c09ef3ee-2944-4c9d-8398-828739ce6441",
   "metadata": {
    "tags": []
   },
   "outputs": [],
   "source": [
    "# Merge Monetary vals to original df\n",
    "df_rfm = pd.merge(df_new, mone, on =\"CustomerID\")"
   ]
  },
  {
   "cell_type": "code",
   "execution_count": 24,
   "id": "55640747-7b53-4989-8764-716f7f3fc438",
   "metadata": {
    "tags": []
   },
   "outputs": [
    {
     "data": {
      "text/html": [
       "<div>\n",
       "<style scoped>\n",
       "    .dataframe tbody tr th:only-of-type {\n",
       "        vertical-align: middle;\n",
       "    }\n",
       "\n",
       "    .dataframe tbody tr th {\n",
       "        vertical-align: top;\n",
       "    }\n",
       "\n",
       "    .dataframe thead th {\n",
       "        text-align: right;\n",
       "    }\n",
       "</style>\n",
       "<table border=\"1\" class=\"dataframe\">\n",
       "  <thead>\n",
       "    <tr style=\"text-align: right;\">\n",
       "      <th></th>\n",
       "      <th>CustomerID</th>\n",
       "      <th>PurchaseDate</th>\n",
       "      <th>TransactionAmount</th>\n",
       "      <th>ProductInformation</th>\n",
       "      <th>OrderID</th>\n",
       "      <th>Location</th>\n",
       "      <th>LastPurchase</th>\n",
       "      <th>Recency</th>\n",
       "      <th>Frequency</th>\n",
       "      <th>Monetary</th>\n",
       "    </tr>\n",
       "  </thead>\n",
       "  <tbody>\n",
       "    <tr>\n",
       "      <th>0</th>\n",
       "      <td>8814</td>\n",
       "      <td>2023-04-11</td>\n",
       "      <td>943.31</td>\n",
       "      <td>Product C</td>\n",
       "      <td>890075</td>\n",
       "      <td>Tokyo</td>\n",
       "      <td>2023-06-10</td>\n",
       "      <td>60</td>\n",
       "      <td>1</td>\n",
       "      <td>943.31</td>\n",
       "    </tr>\n",
       "    <tr>\n",
       "      <th>1</th>\n",
       "      <td>2188</td>\n",
       "      <td>2023-04-11</td>\n",
       "      <td>463.70</td>\n",
       "      <td>Product A</td>\n",
       "      <td>176819</td>\n",
       "      <td>London</td>\n",
       "      <td>2023-06-10</td>\n",
       "      <td>60</td>\n",
       "      <td>1</td>\n",
       "      <td>463.70</td>\n",
       "    </tr>\n",
       "    <tr>\n",
       "      <th>2</th>\n",
       "      <td>4608</td>\n",
       "      <td>2023-04-11</td>\n",
       "      <td>80.28</td>\n",
       "      <td>Product A</td>\n",
       "      <td>340062</td>\n",
       "      <td>New York</td>\n",
       "      <td>2023-06-10</td>\n",
       "      <td>60</td>\n",
       "      <td>1</td>\n",
       "      <td>80.28</td>\n",
       "    </tr>\n",
       "    <tr>\n",
       "      <th>3</th>\n",
       "      <td>2559</td>\n",
       "      <td>2023-04-11</td>\n",
       "      <td>221.29</td>\n",
       "      <td>Product A</td>\n",
       "      <td>239145</td>\n",
       "      <td>London</td>\n",
       "      <td>2023-06-10</td>\n",
       "      <td>60</td>\n",
       "      <td>1</td>\n",
       "      <td>221.29</td>\n",
       "    </tr>\n",
       "    <tr>\n",
       "      <th>4</th>\n",
       "      <td>9482</td>\n",
       "      <td>2023-04-11</td>\n",
       "      <td>739.56</td>\n",
       "      <td>Product A</td>\n",
       "      <td>194545</td>\n",
       "      <td>Paris</td>\n",
       "      <td>2023-06-10</td>\n",
       "      <td>60</td>\n",
       "      <td>1</td>\n",
       "      <td>739.56</td>\n",
       "    </tr>\n",
       "  </tbody>\n",
       "</table>\n",
       "</div>"
      ],
      "text/plain": [
       "   CustomerID PurchaseDate  TransactionAmount ProductInformation  OrderID  \\\n",
       "0        8814   2023-04-11             943.31          Product C   890075   \n",
       "1        2188   2023-04-11             463.70          Product A   176819   \n",
       "2        4608   2023-04-11              80.28          Product A   340062   \n",
       "3        2559   2023-04-11             221.29          Product A   239145   \n",
       "4        9482   2023-04-11             739.56          Product A   194545   \n",
       "\n",
       "   Location LastPurchase  Recency  Frequency  Monetary  \n",
       "0     Tokyo   2023-06-10       60          1    943.31  \n",
       "1    London   2023-06-10       60          1    463.70  \n",
       "2  New York   2023-06-10       60          1     80.28  \n",
       "3    London   2023-06-10       60          1    221.29  \n",
       "4     Paris   2023-06-10       60          1    739.56  "
      ]
     },
     "execution_count": 24,
     "metadata": {},
     "output_type": "execute_result"
    }
   ],
   "source": [
    "# Show rfm data\n",
    "df_rfm.head()"
   ]
  },
  {
   "cell_type": "code",
   "execution_count": 35,
   "id": "8ce49434-003f-4c0b-9ae2-328bf38d788b",
   "metadata": {
    "tags": []
   },
   "outputs": [],
   "source": [
    "# export to csv\n",
    "df_rfm.to_csv(\"df_rfm_cleaned.csv\")"
   ]
  },
  {
   "cell_type": "markdown",
   "id": "1835175c-a156-4cf8-bd5e-381705ad21d6",
   "metadata": {},
   "source": [
    "#### GET RFM SCORE"
   ]
  },
  {
   "cell_type": "code",
   "execution_count": 33,
   "id": "d074a119-c14f-4eef-9091-f31e01dcf2a4",
   "metadata": {
    "tags": []
   },
   "outputs": [
    {
     "data": {
      "text/html": [
       "<div>\n",
       "<style scoped>\n",
       "    .dataframe tbody tr th:only-of-type {\n",
       "        vertical-align: middle;\n",
       "    }\n",
       "\n",
       "    .dataframe tbody tr th {\n",
       "        vertical-align: top;\n",
       "    }\n",
       "\n",
       "    .dataframe thead th {\n",
       "        text-align: right;\n",
       "    }\n",
       "</style>\n",
       "<table border=\"1\" class=\"dataframe\">\n",
       "  <thead>\n",
       "    <tr style=\"text-align: right;\">\n",
       "      <th></th>\n",
       "      <th>Recency</th>\n",
       "      <th>Frequency</th>\n",
       "      <th>Monetary</th>\n",
       "    </tr>\n",
       "  </thead>\n",
       "  <tbody>\n",
       "    <tr>\n",
       "      <th>0.25</th>\n",
       "      <td>15.0</td>\n",
       "      <td>1.0</td>\n",
       "      <td>283.9250</td>\n",
       "    </tr>\n",
       "    <tr>\n",
       "      <th>0.50</th>\n",
       "      <td>32.0</td>\n",
       "      <td>1.0</td>\n",
       "      <td>566.7100</td>\n",
       "    </tr>\n",
       "    <tr>\n",
       "      <th>0.75</th>\n",
       "      <td>45.0</td>\n",
       "      <td>1.0</td>\n",
       "      <td>805.3725</td>\n",
       "    </tr>\n",
       "  </tbody>\n",
       "</table>\n",
       "</div>"
      ],
      "text/plain": [
       "      Recency  Frequency  Monetary\n",
       "0.25     15.0        1.0  283.9250\n",
       "0.50     32.0        1.0  566.7100\n",
       "0.75     45.0        1.0  805.3725"
      ]
     },
     "execution_count": 33,
     "metadata": {},
     "output_type": "execute_result"
    }
   ],
   "source": [
    "# check quantile score\n",
    "df_rfm[[\"Recency\", \"Frequency\", \"Monetary\"]].quantile([0.25, 0.5, 0.75])"
   ]
  },
  {
   "cell_type": "code",
   "execution_count": 37,
   "id": "99fa04f8-c840-408a-b0f8-50bf5831fce5",
   "metadata": {
    "tags": []
   },
   "outputs": [
    {
     "data": {
      "text/html": [
       "<div>\n",
       "<style scoped>\n",
       "    .dataframe tbody tr th:only-of-type {\n",
       "        vertical-align: middle;\n",
       "    }\n",
       "\n",
       "    .dataframe tbody tr th {\n",
       "        vertical-align: top;\n",
       "    }\n",
       "\n",
       "    .dataframe thead th {\n",
       "        text-align: right;\n",
       "    }\n",
       "</style>\n",
       "<table border=\"1\" class=\"dataframe\">\n",
       "  <thead>\n",
       "    <tr style=\"text-align: right;\">\n",
       "      <th></th>\n",
       "      <th>Recency</th>\n",
       "      <th>Frequency</th>\n",
       "      <th>Monetary</th>\n",
       "    </tr>\n",
       "  </thead>\n",
       "  <tbody>\n",
       "    <tr>\n",
       "      <th>0.2</th>\n",
       "      <td>12.0</td>\n",
       "      <td>1.0</td>\n",
       "      <td>224.450</td>\n",
       "    </tr>\n",
       "    <tr>\n",
       "      <th>0.4</th>\n",
       "      <td>25.0</td>\n",
       "      <td>1.0</td>\n",
       "      <td>456.494</td>\n",
       "    </tr>\n",
       "    <tr>\n",
       "      <th>0.6</th>\n",
       "      <td>37.0</td>\n",
       "      <td>1.0</td>\n",
       "      <td>668.238</td>\n",
       "    </tr>\n",
       "    <tr>\n",
       "      <th>0.8</th>\n",
       "      <td>47.2</td>\n",
       "      <td>1.0</td>\n",
       "      <td>848.916</td>\n",
       "    </tr>\n",
       "  </tbody>\n",
       "</table>\n",
       "</div>"
      ],
      "text/plain": [
       "     Recency  Frequency  Monetary\n",
       "0.2     12.0        1.0   224.450\n",
       "0.4     25.0        1.0   456.494\n",
       "0.6     37.0        1.0   668.238\n",
       "0.8     47.2        1.0   848.916"
      ]
     },
     "execution_count": 37,
     "metadata": {},
     "output_type": "execute_result"
    }
   ],
   "source": [
    "# check quantile score\n",
    "df_rfm[[\"Recency\", \"Frequency\", \"Monetary\"]].quantile([0.2, 0.4, 0.6, 0.8])"
   ]
  },
  {
   "cell_type": "markdown",
   "id": "de994eec-95d3-4cc8-9271-2f2d0c8b125a",
   "metadata": {
    "tags": []
   },
   "source": [
    "![](https://blog.rsquaredacademy.com/img/rfm_segments_table.png)\n",
    "\n",
    "![](https://runawayhorse001.github.io/LearningApacheSpark/_images/rfm_business.png)"
   ]
  }
 ],
 "metadata": {
  "kernelspec": {
   "display_name": "Python 3 (ipykernel)",
   "language": "python",
   "name": "python3"
  },
  "language_info": {
   "codemirror_mode": {
    "name": "ipython",
    "version": 3
   },
   "file_extension": ".py",
   "mimetype": "text/x-python",
   "name": "python",
   "nbconvert_exporter": "python",
   "pygments_lexer": "ipython3",
   "version": "3.11.4"
  }
 },
 "nbformat": 4,
 "nbformat_minor": 5
}
