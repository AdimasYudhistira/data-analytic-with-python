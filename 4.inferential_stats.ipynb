{
 "cells": [
  {
   "attachments": {
    "5d20f863-23ab-497f-9f1a-93f414de7ea2.png": {
     "image/png": "[encoded data removed]"
    }
   },
   "cell_type": "markdown",
   "id": "e4a0719c-eede-452f-996f-e2bbb8face95",
   "metadata": {},
   "source": [
    "## Inferential Stats\n",
    "![image.png](attachment:5d20f863-23ab-497f-9f1a-93f414de7ea2.png)\n",
    "\n",
    "Inferential statistics serves two primary purposes:\n",
    "\n",
    "Making Inferences about a Population:\n",
    "\n",
    "- One of the main uses of inferential statistics is to draw conclusions or make inferences about a population based on a sample of data from that population.\n",
    "- Instead of studying an entire population, which may be impractical or impossible, researchers use inferential statistics to analyze a subset (sample) and then generalize the findings to the larger population.\n",
    "- This involves estimating parameters, such as population mean or proportion, and making predictions or drawing conclusions about the population based on the sample data.\n",
    "\n",
    "Testing Hypotheses and Making Statistical Decisions:\n",
    "\n",
    "- Inferential statistics is also crucial for hypothesis testing, where researchers formulate hypotheses about a population parameter and use sample data to assess the validity of these hypotheses.\n",
    "- Through hypothesis testing, researchers can make decisions about whether observed differences or effects are likely to be real or if they could have occurred by chance.\n",
    "- This involves comparing sample statistics to expected values under a null hypothesis and assessing the statistical significance of results.\n",
    "\n",
    "In summary, inferential statistics allows researchers to make broader inferences about populations based on samples and to test hypotheses and make decisions about the likely validity of observed effects or differences. It plays a vital role in scientific research, decision-making, and drawing meaningful conclusions from data."
   ]
  },
  {
   "cell_type": "code",
   "execution_count": 1,
   "id": "e645d078-2d3c-48fb-ad75-8b381de6f011",
   "metadata": {
    "tags": []
   },
   "outputs": [],
   "source": [
    "# Liblary\n",
    "\n",
    "# Basic Operation\n",
    "import numpy as np\n",
    "import pandas as pd\n",
    "\n",
    "# Data Visualization\n",
    "import seaborn as sns\n",
    "import matplotlib.pyplot as plt\n",
    "from sklearn.datasets import load_iris\n",
    "\n",
    "from statsmodels.stats.weightstats import ztest\n",
    "\n",
    "# ignore warnings\n",
    "import warnings\n",
    "warnings.filterwarnings(\"ignore\")"
   ]
  },
  {
   "cell_type": "code",
   "execution_count": 2,
   "id": "692e379e-d0fe-4432-8252-5d31b1466f20",
   "metadata": {
    "tags": []
   },
   "outputs": [],
   "source": [
    "# Load data\n",
    "df = pd.read_csv('data/train.csv.xls')"
   ]
  },
  {
   "cell_type": "code",
   "execution_count": 3,
   "id": "cb1b5d3b-85e1-42de-bbd9-219adbdf53d1",
   "metadata": {
    "tags": []
   },
   "outputs": [
    {
     "data": {
      "text/plain": [
       "(1460, 81)"
      ]
     },
     "execution_count": 3,
     "metadata": {},
     "output_type": "execute_result"
    }
   ],
   "source": [
    "df.shape"
   ]
  },
  {
   "cell_type": "code",
   "execution_count": 4,
   "id": "fad172f1-6bf6-4d93-9f1b-5c6560770c50",
   "metadata": {
    "tags": []
   },
   "outputs": [
    {
     "name": "stdout",
     "output_type": "stream",
     "text": [
      "<class 'pandas.core.frame.DataFrame'>\n",
      "RangeIndex: 1460 entries, 0 to 1459\n",
      "Data columns (total 81 columns):\n",
      " #   Column         Non-Null Count  Dtype  \n",
      "---  ------         --------------  -----  \n",
      " 0   Id             1460 non-null   int64  \n",
      " 1   MSSubClass     1460 non-null   int64  \n",
      " 2   MSZoning       1460 non-null   object \n",
      " 3   LotFrontage    1201 non-null   float64\n",
      " 4   LotArea        1460 non-null   int64  \n",
      " 5   Street         1460 non-null   object \n",
      " 6   Alley          91 non-null     object \n",
      " 7   LotShape       1460 non-null   object \n",
      " 8   LandContour    1460 non-null   object \n",
      " 9   Utilities      1460 non-null   object \n",
      " 10  LotConfig      1460 non-null   object \n",
      " 11  LandSlope      1460 non-null   object \n",
      " 12  Neighborhood   1460 non-null   object \n",
      " 13  Condition1     1460 non-null   object \n",
      " 14  Condition2     1460 non-null   object \n",
      " 15  BldgType       1460 non-null   object \n",
      " 16  HouseStyle     1460 non-null   object \n",
      " 17  OverallQual    1460 non-null   int64  \n",
      " 18  OverallCond    1460 non-null   int64  \n",
      " 19  YearBuilt      1460 non-null   int64  \n",
      " 20  YearRemodAdd   1460 non-null   int64  \n",
      " 21  RoofStyle      1460 non-null   object \n",
      " 22  RoofMatl       1460 non-null   object \n",
      " 23  Exterior1st    1460 non-null   object \n",
      " 24  Exterior2nd    1460 non-null   object \n",
      " 25  MasVnrType     1452 non-null   object \n",
      " 26  MasVnrArea     1452 non-null   float64\n",
      " 27  ExterQual      1460 non-null   object \n",
      " 28  ExterCond      1460 non-null   object \n",
      " 29  Foundation     1460 non-null   object \n",
      " 30  BsmtQual       1423 non-null   object \n",
      " 31  BsmtCond       1423 non-null   object \n",
      " 32  BsmtExposure   1422 non-null   object \n",
      " 33  BsmtFinType1   1423 non-null   object \n",
      " 34  BsmtFinSF1     1460 non-null   int64  \n",
      " 35  BsmtFinType2   1422 non-null   object \n",
      " 36  BsmtFinSF2     1460 non-null   int64  \n",
      " 37  BsmtUnfSF      1460 non-null   int64  \n",
      " 38  TotalBsmtSF    1460 non-null   int64  \n",
      " 39  Heating        1460 non-null   object \n",
      " 40  HeatingQC      1460 non-null   object \n",
      " 41  CentralAir     1460 non-null   object \n",
      " 42  Electrical     1459 non-null   object \n",
      " 43  1stFlrSF       1460 non-null   int64  \n",
      " 44  2ndFlrSF       1460 non-null   int64  \n",
      " 45  LowQualFinSF   1460 non-null   int64  \n",
      " 46  GrLivArea      1460 non-null   int64  \n",
      " 47  BsmtFullBath   1460 non-null   int64  \n",
      " 48  BsmtHalfBath   1460 non-null   int64  \n",
      " 49  FullBath       1460 non-null   int64  \n",
      " 50  HalfBath       1460 non-null   int64  \n",
      " 51  BedroomAbvGr   1460 non-null   int64  \n",
      " 52  KitchenAbvGr   1460 non-null   int64  \n",
      " 53  KitchenQual    1460 non-null   object \n",
      " 54  TotRmsAbvGrd   1460 non-null   int64  \n",
      " 55  Functional     1460 non-null   object \n",
      " 56  Fireplaces     1460 non-null   int64  \n",
      " 57  FireplaceQu    770 non-null    object \n",
      " 58  GarageType     1379 non-null   object \n",
      " 59  GarageYrBlt    1379 non-null   float64\n",
      " 60  GarageFinish   1379 non-null   object \n",
      " 61  GarageCars     1460 non-null   int64  \n",
      " 62  GarageArea     1460 non-null   int64  \n",
      " 63  GarageQual     1379 non-null   object \n",
      " 64  GarageCond     1379 non-null   object \n",
      " 65  PavedDrive     1460 non-null   object \n",
      " 66  WoodDeckSF     1460 non-null   int64  \n",
      " 67  OpenPorchSF    1460 non-null   int64  \n",
      " 68  EnclosedPorch  1460 non-null   int64  \n",
      " 69  3SsnPorch      1460 non-null   int64  \n",
      " 70  ScreenPorch    1460 non-null   int64  \n",
      " 71  PoolArea       1460 non-null   int64  \n",
      " 72  PoolQC         7 non-null      object \n",
      " 73  Fence          281 non-null    object \n",
      " 74  MiscFeature    54 non-null     object \n",
      " 75  MiscVal        1460 non-null   int64  \n",
      " 76  MoSold         1460 non-null   int64  \n",
      " 77  YrSold         1460 non-null   int64  \n",
      " 78  SaleType       1460 non-null   object \n",
      " 79  SaleCondition  1460 non-null   object \n",
      " 80  SalePrice      1460 non-null   int64  \n",
      "dtypes: float64(3), int64(35), object(43)\n",
      "memory usage: 924.0+ KB\n"
     ]
    }
   ],
   "source": [
    "df.info()"
   ]
  },
  {
   "cell_type": "markdown",
   "id": "6387ab0d-ee7f-4359-bade-6b1edeba702b",
   "metadata": {},
   "source": [
    "## Basic Probability"
   ]
  },
  {
   "cell_type": "code",
   "execution_count": 5,
   "id": "4a40834b-e03b-48a8-a69c-9c57bbd133dc",
   "metadata": {
    "tags": []
   },
   "outputs": [
    {
     "data": {
      "text/plain": [
       "NAmes      225\n",
       "CollgCr    150\n",
       "OldTown    113\n",
       "Edwards    100\n",
       "Somerst     86\n",
       "Gilbert     79\n",
       "NridgHt     77\n",
       "Sawyer      74\n",
       "NWAmes      73\n",
       "SawyerW     59\n",
       "BrkSide     58\n",
       "Crawfor     51\n",
       "Mitchel     49\n",
       "NoRidge     41\n",
       "Timber      38\n",
       "IDOTRR      37\n",
       "ClearCr     28\n",
       "StoneBr     25\n",
       "SWISU       25\n",
       "MeadowV     17\n",
       "Blmngtn     17\n",
       "BrDale      16\n",
       "Veenker     11\n",
       "NPkVill      9\n",
       "Blueste      2\n",
       "Name: Neighborhood, dtype: int64"
      ]
     },
     "execution_count": 5,
     "metadata": {},
     "output_type": "execute_result"
    }
   ],
   "source": [
    "# Lets check the different neighborhoods\n",
    "df['Neighborhood'].value_counts()"
   ]
  },
  {
   "cell_type": "code",
   "execution_count": 6,
   "id": "e22051eb-cfdf-4eed-9585-ccdc4e045c12",
   "metadata": {
    "tags": []
   },
   "outputs": [
    {
     "name": "stdout",
     "output_type": "stream",
     "text": [
      "Total Number of House in the Neighborhood : 1460\n"
     ]
    }
   ],
   "source": [
    "# total number of house in neighborhood\n",
    "all_houses = len(df)\n",
    "print(\"Total Number of House in the Neighborhood :\", all_houses)"
   ]
  },
  {
   "cell_type": "code",
   "execution_count": 7,
   "id": "bb918966-0eb2-40da-b40d-63878425acc6",
   "metadata": {
    "tags": []
   },
   "outputs": [
    {
     "name": "stdout",
     "output_type": "stream",
     "text": [
      "Total Number of House in the Old town Road : 113\n"
     ]
    }
   ],
   "source": [
    "# total number of house in the old town neighborhood\n",
    "houses_in_OldTown = len(df[df['Neighborhood'] == 'OldTown'])\n",
    "print(\"Total Number of House in the Old town Road :\",houses_in_OldTown)"
   ]
  },
  {
   "cell_type": "code",
   "execution_count": 8,
   "id": "39f2ba53-f126-4da1-ae46-fc44bddcb508",
   "metadata": {
    "tags": []
   },
   "outputs": [
    {
     "name": "stdout",
     "output_type": "stream",
     "text": [
      "Probability of picking a house in OldTown: 7.74%\n"
     ]
    }
   ],
   "source": [
    "# Lets find the probability of picking a house in old town\n",
    "probability = (houses_in_OldTown/all_houses)*100\n",
    "print('Probability of picking a house in OldTown: {0:.2f}'.format(probability)+'%')"
   ]
  },
  {
   "cell_type": "markdown",
   "id": "09805373-e42c-4d43-a453-fa0fdd1ebdc6",
   "metadata": {},
   "source": [
    "## Conditional Probability"
   ]
  },
  {
   "cell_type": "code",
   "execution_count": 9,
   "id": "14b99511-2d5f-459e-b3f2-7d0e6b6d6009",
   "metadata": {
    "tags": []
   },
   "outputs": [
    {
     "name": "stdout",
     "output_type": "stream",
     "text": [
      " The Probability of Picking House in Old Town House and again picking a house from the same neighborhood is 0.594139352\n"
     ]
    }
   ],
   "source": [
    "# Enter conditional probability code\n",
    "cond_prob = (houses_in_OldTown/all_houses)*((houses_in_OldTown - 1)/(all_houses - 1))\n",
    "print(\" The Probability of Picking House in Old Town House and again picking a house from the same neighborhood is {0:.9f}\".\n",
    "     format(cond_prob*100))"
   ]
  },
  {
   "cell_type": "code",
   "execution_count": 10,
   "id": "61846670-8bec-4eb1-b2e1-bc49adb35473",
   "metadata": {
    "tags": []
   },
   "outputs": [
    {
     "data": {
      "image/png": "[encoded data removed]",
      "text/plain": [
       "<Figure size 800x550 with 1 Axes>"
      ]
     },
     "metadata": {},
     "output_type": "display_data"
    }
   ],
   "source": [
    "plt.rcParams['figure.figsize'] = (6,4)\n",
    "plt.style.use('seaborn')\n",
    "\n",
    "plt.xticks(rotation=30)\n",
    "sns.distplot(df['SalePrice'])\n",
    "plt.title('Distribution of target column')\n",
    "plt.show()"
   ]
  },
  {
   "cell_type": "code",
   "execution_count": 11,
   "id": "8764fa25-73a0-4671-93ae-8f1f1f6cb2b0",
   "metadata": {
    "tags": []
   },
   "outputs": [
    {
     "data": {
      "text/plain": [
       "1.8828757597682129"
      ]
     },
     "execution_count": 11,
     "metadata": {},
     "output_type": "execute_result"
    }
   ],
   "source": [
    "# Computing the skewness for each feature\n",
    "df['SalePrice'].skew()"
   ]
  },
  {
   "cell_type": "markdown",
   "id": "037e717c-c11e-4436-86fc-962ea73b201f",
   "metadata": {
    "tags": []
   },
   "source": [
    "### Sample Mean and Population Mean"
   ]
  },
  {
   "cell_type": "code",
   "execution_count": 12,
   "id": "cb8ddba1-542e-43d7-bcd4-fb6504f8bdb4",
   "metadata": {},
   "outputs": [
    {
     "name": "stdout",
     "output_type": "stream",
     "text": [
      "Sample Mean: 180098.748\n",
      "Sample Median: 160750.0\n",
      "Sample std: 76917.46070886959\n",
      "Population mean: 180921.19589041095\n",
      "Population Median: 163000.0\n",
      "Population std: 79442.50288288663\n"
     ]
    }
   ],
   "source": [
    "# Lets take seed so that everytime the random values came out to be constrant\n",
    "np.random.seed(100)\n",
    "\n",
    "# lets take 500 sample values from the dataset of 1460 values\n",
    "sample_ages = np.random.choice(a = df['SalePrice'], size=500)\n",
    "\n",
    "#getting the sample mean\n",
    "print(\"Sample Mean:\", sample_ages.mean())\n",
    "print(\"Sample Median:\", np.median(sample_ages))\n",
    "print(\"Sample std:\", np.std(sample_ages))\n",
    "\n",
    "#getting the population mean\n",
    "print(\"Population mean:\", df['SalePrice'].mean())\n",
    "print(\"Population Median:\", df['SalePrice'].median())\n",
    "print(\"Population std:\", df['SalePrice'].std())"
   ]
  },
  {
   "cell_type": "markdown",
   "id": "ccca5f62-f9e0-49ce-8a06-404a82263c7e",
   "metadata": {},
   "source": [
    "> from above information, we can infer that the sample mean, median and std are not far from the population, hence....."
   ]
  },
  {
   "cell_type": "markdown",
   "id": "9900567a-ee37-431a-aeff-d077c61ea942",
   "metadata": {},
   "source": [
    "## Central Limit Theorem\n",
    "The Central Limit Theorem (CLT) is a statistical concept that states that the distribution of the sum or average of a large number of independent, identically distributed random variables approaches a normal (Gaussian) distribution, regardless of the original distribution of the variables. In simpler terms, when you add up or average out a bunch of random things, you end up with a nice, predictable bell curve. This is super handy for making statistical inferences, especially when dealing with large samples."
   ]
  },
  {
   "cell_type": "markdown",
   "id": "f4be24d2-e7c0-4745-8c5b-7f44fc43c3f9",
   "metadata": {},
   "source": [
    "## Confidence Interval\n",
    "A Confidence Interval (CI) is a statistical concept used to estimate the range within which a population parameter, such as a mean or proportion, is likely to lie. It provides a range of values, along with a level of confidence, indicating the degree of certainty associated with the estimate. For example, a 95% confidence interval implies that if we were to take many samples and construct intervals in the same way, we would expect about 95% of those intervals to contain the true population parameter. In essence, it helps quantify the uncertainty in our sample-based estimates of population parameters."
   ]
  },
  {
   "cell_type": "code",
   "execution_count": 13,
   "id": "b4dad17d-c672-41cd-86ea-276d455c2cda",
   "metadata": {},
   "outputs": [],
   "source": [
    "import scipy.stats as stats\n",
    "import math"
   ]
  },
  {
   "cell_type": "code",
   "execution_count": 14,
   "id": "fd33ec94-17ad-48e8-b085-38c44113880f",
   "metadata": {
    "tags": []
   },
   "outputs": [],
   "source": [
    "# Lets seed the random values\n",
    "np.random.seed(10)\n",
    "\n",
    "# Lets take a sample size\n",
    "sample_size = 1000\n",
    "sample = np.random.choice(a=df['SalePrice'], size = sample_size)\n",
    "sample_mean = sample.mean()"
   ]
  },
  {
   "cell_type": "code",
   "execution_count": 15,
   "id": "4189f1c3-0984-46f1-bf4d-160051766000",
   "metadata": {
    "tags": []
   },
   "outputs": [
    {
     "name": "stdout",
     "output_type": "stream",
     "text": [
      "z-critcial value:  1.6448536269514722\n"
     ]
    }
   ],
   "source": [
    "# get the z-critical value\n",
    "z_critical = stats.norm.ppf(q = 0.95)\n",
    "\n",
    "# Check the z-critical value\n",
    "print(\"z-critcial value: \",z_critical)"
   ]
  },
  {
   "cell_type": "code",
   "execution_count": 16,
   "id": "a634ba49-121f-4786-9135-03422c96512d",
   "metadata": {
    "tags": []
   },
   "outputs": [],
   "source": [
    "# Get the population standard deviation\n",
    "pop_stdev = df['SalePrice'].std()\n",
    "\n",
    "# Checking the margin of error\n",
    "margin_of_error = z_critical * (pop_stdev/math.sqrt(sample_size))\n",
    "\n",
    "# defining our confidence interval\n",
    "confidence_interval = (sample_mean - margin_of_error, sample_mean + margin_of_error)"
   ]
  },
  {
   "cell_type": "code",
   "execution_count": 17,
   "id": "0a4779fc-23b9-4676-bbef-366e0b417a20",
   "metadata": {},
   "outputs": [
    {
     "name": "stdout",
     "output_type": "stream",
     "text": [
      "Confidance interval:  (178338.05201966673, 186602.42998033328)\n",
      "True Mean: 180921.19589041095\n"
     ]
    }
   ],
   "source": [
    "# Lets print the result\n",
    "print(\"Confidance interval: \", end=\" \")\n",
    "print(confidence_interval)\n",
    "print(\"True Mean: {}\".format(df['SalePrice'].mean()))"
   ]
  },
  {
   "cell_type": "markdown",
   "id": "f6691010-af62-4bab-9dca-fede877b7a0c",
   "metadata": {},
   "source": [
    "### P Value"
   ]
  },
  {
   "cell_type": "code",
   "execution_count": 18,
   "id": "b76120eb-bd47-4c55-8ed9-7033a5ac0f80",
   "metadata": {},
   "outputs": [],
   "source": [
    "# getting z-stats, p-value\n",
    "\n",
    "old_town_sale_price = df[df['Neighborhood'] == 'OldTown']['SalePrice']\n",
    "mean_values = df['SalePrice'].mean()\n",
    "z_statistic, p_value = ztest(x1 = old_town_sale_price,\n",
    "                            value = mean_values)"
   ]
  },
  {
   "cell_type": "code",
   "execution_count": 19,
   "id": "4e901c12-c668-4932-85db-19e9ae7ae638",
   "metadata": {},
   "outputs": [
    {
     "name": "stdout",
     "output_type": "stream",
     "text": [
      "Z-statistic is:-10.639294263334575\n",
      "P-value is:1.9560526026260018e-26\n"
     ]
    }
   ],
   "source": [
    "# lets print the result\n",
    "print('Z-statistic is:{}'.format(z_statistic))\n",
    "print('P-value is:{:}'.format(p_value))"
   ]
  },
  {
   "cell_type": "code",
   "execution_count": 20,
   "id": "7d0b7952-c26e-4578-bfe0-ee6a8b1f49ac",
   "metadata": {
    "tags": []
   },
   "outputs": [
    {
     "name": "stdout",
     "output_type": "stream",
     "text": [
      "Ho rejected\n"
     ]
    }
   ],
   "source": [
    "# hypothesis result\n",
    "if p_value < 0.5:\n",
    "    print(\"Ho rejected\")\n",
    "else:\n",
    "    print(\"Ho accepted\")"
   ]
  },
  {
   "cell_type": "markdown",
   "id": "8a769e43-1eec-427a-b34e-d193384e2f0b",
   "metadata": {},
   "source": [
    "### T-test"
   ]
  },
  {
   "cell_type": "code",
   "execution_count": 21,
   "id": "37a5a18c-4550-46f5-9d9d-3ce168ecc0f2",
   "metadata": {
    "tags": []
   },
   "outputs": [
    {
     "name": "stdout",
     "output_type": "stream",
     "text": [
      "No of houses in stone brook: 25\n"
     ]
    }
   ],
   "source": [
    "print('No of houses in stone brook: {}'\\\n",
    "     .format(df['Neighborhood'].value_counts()['StoneBr']))"
   ]
  },
  {
   "cell_type": "code",
   "execution_count": 22,
   "id": "8e063100-3780-45b7-a173-c5545418a7eb",
   "metadata": {
    "tags": []
   },
   "outputs": [],
   "source": [
    "# getting stats values and pvalues\n",
    "stats, p_val = stats.ttest_1samp(a = df[df['Neighborhood'] == 'StoneBr']['SalePrice'], # sample\n",
    "                                popmean = df['SalePrice'].mean()) #popmean"
   ]
  },
  {
   "cell_type": "code",
   "execution_count": 23,
   "id": "5caa9893-b4f4-4ce3-a1b5-b661a3c7c6de",
   "metadata": {
    "tags": []
   },
   "outputs": [
    {
     "name": "stdout",
     "output_type": "stream",
     "text": [
      "t_stats: 5.735070151700397 p_val: 6.558704101036394e-06\n"
     ]
    }
   ],
   "source": [
    "#print stats val and pval\n",
    "print(\"t_stats:\", stats, \"p_val:\", p_val)"
   ]
  },
  {
   "cell_type": "code",
   "execution_count": 24,
   "id": "95589b9e-bf53-4a88-9738-e0d18b7dd16c",
   "metadata": {
    "tags": []
   },
   "outputs": [
    {
     "name": "stdout",
     "output_type": "stream",
     "text": [
      "Ho rejected\n"
     ]
    }
   ],
   "source": [
    "# hypothesis result\n",
    "if p_value < 0.5:\n",
    "    print(\"Ho rejected\")\n",
    "else:\n",
    "    print(\"Ho accepted\")"
   ]
  },
  {
   "cell_type": "markdown",
   "id": "01782d0e-8e40-4bd1-910d-5c15826b2fe0",
   "metadata": {
    "tags": []
   },
   "source": [
    "The p-value in this case again is low and we can reject our null hypothesis"
   ]
  },
  {
   "cell_type": "markdown",
   "id": "aa56484d-f98c-444d-99ad-ab16cafc8d47",
   "metadata": {
    "tags": []
   },
   "source": [
    "### Chi-Squared Goodness of fit test"
   ]
  },
  {
   "cell_type": "code",
   "execution_count": 25,
   "id": "57cbb569-b9be-4ddc-90a3-625978ff11fe",
   "metadata": {
    "tags": []
   },
   "outputs": [],
   "source": [
    "# generate data\n",
    "national = pd.DataFrame([\"white\"]*100000 + [\"hispanic\"]*60000 +\\\n",
    "                       [\"black\"]*50000 + [\"asian\"]*15000 + [\"other\"]*35000)\n",
    "\n",
    "minnesota = pd.DataFrame([\"white\"]*600 + [\"hispanic\"]*300 +\\\n",
    "                       [\"black\"]*200 + [\"asian\"]*75 + [\"other\"]*150)"
   ]
  },
  {
   "cell_type": "code",
   "execution_count": 26,
   "id": "ebcc1a2d-2219-4c95-af98-b493200fc2b3",
   "metadata": {
    "tags": []
   },
   "outputs": [],
   "source": [
    "# generate table\n",
    "national_table = pd.crosstab(index=national[0], columns=\"count\")\n",
    "minnesota_table = pd.crosstab(index=minnesota[0], columns=\"count\")"
   ]
  },
  {
   "cell_type": "code",
   "execution_count": 27,
   "id": "6d73910b-9efc-4a2b-9280-47ccb15f96f2",
   "metadata": {
    "tags": []
   },
   "outputs": [
    {
     "name": "stdout",
     "output_type": "stream",
     "text": [
      "National\n",
      "col_0      count\n",
      "0               \n",
      "asian      15000\n",
      "black      50000\n",
      "hispanic   60000\n",
      "other      35000\n",
      "white     100000\n",
      " \n",
      "Minnesota\n",
      "col_0     count\n",
      "0              \n",
      "asian        75\n",
      "black       200\n",
      "hispanic    300\n",
      "other       150\n",
      "white       600\n"
     ]
    }
   ],
   "source": [
    "# print table\n",
    "print(\"National\")\n",
    "print(national_table)\n",
    "print(\" \")\n",
    "print(\"Minnesota\")\n",
    "print(minnesota_table)"
   ]
  },
  {
   "attachments": {
    "0bb251ca-66d6-45b7-908c-afa092a7cee6.png": {
     "image/png": "[encoded data removed]"
    }
   },
   "cell_type": "markdown",
   "id": "2ab10679-6ebb-4fd1-a57a-d4221b43ef9f",
   "metadata": {},
   "source": [
    ">### Chi Square Formula\n",
    ">![image.png](attachment:0bb251ca-66d6-45b7-908c-afa092a7cee6.png)"
   ]
  },
  {
   "cell_type": "code",
   "execution_count": 28,
   "id": "0708e82c-2358-4906-874e-b2d4bc7457e5",
   "metadata": {
    "tags": []
   },
   "outputs": [
    {
     "name": "stdout",
     "output_type": "stream",
     "text": [
      "Chi-squared: 32.466307277628026\n"
     ]
    }
   ],
   "source": [
    "# Calculate chi2\n",
    "observed = minnesota_table\n",
    "national_ratios = national_table/len(national) # get population ratios\n",
    "expected = national_ratios * len(minnesota) # get expected counts\n",
    "chi_square_stat = (((observed-expected)**2)/expected).sum()\n",
    "\n",
    "print(\"Chi-squared:\", chi_square_stat[0])"
   ]
  },
  {
   "cell_type": "markdown",
   "id": "766f1a39-2e66-4c52-a8fe-5d98f75ea846",
   "metadata": {},
   "source": [
    "### Effect of LandContour on SalePrice"
   ]
  },
  {
   "cell_type": "code",
   "execution_count": 29,
   "id": "bd7a1ed4-b912-4013-b5da-2ce7165b8b85",
   "metadata": {
    "tags": []
   },
   "outputs": [],
   "source": [
    "# import scipy\n",
    "import scipy.stats as sp"
   ]
  },
  {
   "cell_type": "code",
   "execution_count": 30,
   "id": "ba312213-5440-427f-921a-9b91a97bc08d",
   "metadata": {
    "tags": []
   },
   "outputs": [],
   "source": [
    "# function to compute chi2\n",
    "def compute_freq_chi2(x,y):\n",
    "    freqtab = pd.crosstab(x,y)\n",
    "    print(\"Frequency table\")\n",
    "    print(\"============================\")\n",
    "    print(freqtab)\n",
    "    print(\"============================\")\n",
    "    chi2, pval, dof, expected = sp.chi2_contingency(freqtab)\n",
    "    print(\"ChiSquare test statistic: \",chi2)\n",
    "    print(\"p-value: \",pval)"
   ]
  },
  {
   "cell_type": "code",
   "execution_count": 31,
   "id": "6c182e4c-efed-4d76-9e4a-78db30503cd3",
   "metadata": {
    "tags": []
   },
   "outputs": [
    {
     "name": "stdout",
     "output_type": "stream",
     "text": [
      "Frequency table\n",
      "============================\n",
      "SalePrice    High  Medium  Low\n",
      "LandContour                   \n",
      "Bnk            32      20   11\n",
      "HLS            10      12   28\n",
      "Low             8      11   17\n",
      "Lvl           437     447  427\n",
      "============================\n",
      "ChiSquare test statistic:  26.252544346201447\n",
      "p-value:  0.00019976918050008285\n"
     ]
    }
   ],
   "source": [
    "price = pd.qcut(df['SalePrice'], 3, labels = ['High', 'Medium', 'Low'])\n",
    "compute_freq_chi2(df.LandContour, price)"
   ]
  },
  {
   "cell_type": "markdown",
   "id": "bfcc583e-5065-4ee1-97ea-3ab87d7f1faf",
   "metadata": {},
   "source": [
    "#### The frequency distribution reflects this"
   ]
  },
  {
   "cell_type": "code",
   "execution_count": 32,
   "id": "06696968-89ec-4fed-9d7a-98174feddeae",
   "metadata": {
    "tags": []
   },
   "outputs": [],
   "source": [
    "import statsmodels.api as sm\n",
    "import pylab"
   ]
  },
  {
   "cell_type": "code",
   "execution_count": 33,
   "id": "87da71b9-9a93-4409-aad4-83a6943dccb8",
   "metadata": {
    "tags": []
   },
   "outputs": [],
   "source": [
    "def create_qqplot(data,title):\n",
    "    sm.qqplot(data, line = '45')\n",
    "    plt.title(title)\n",
    "    pylab.show()"
   ]
  },
  {
   "cell_type": "code",
   "execution_count": 34,
   "id": "754e7986-0748-4b3b-9b18-9009c69c58e0",
   "metadata": {},
   "outputs": [
    {
     "data": {
      "image/png": "[encoded data removed]",
      "text/plain": [
       "<Figure size 800x550 with 1 Axes>"
      ]
     },
     "metadata": {},
     "output_type": "display_data"
    }
   ],
   "source": [
    "create_qqplot(df['SalePrice'], 'SalePrice')"
   ]
  },
  {
   "cell_type": "code",
   "execution_count": 35,
   "id": "da1a334a-2154-43c9-a778-6b0eff05d7d8",
   "metadata": {
    "tags": []
   },
   "outputs": [],
   "source": [
    "# Use the normality test\n",
    "from scipy.stats import shapiro, normaltest, anderson"
   ]
  },
  {
   "cell_type": "code",
   "execution_count": 36,
   "id": "9a483d93-9b7a-4723-ae7b-f3a43ac3be78",
   "metadata": {
    "tags": []
   },
   "outputs": [],
   "source": [
    "def try_normal(data):\n",
    "    result = {'Anderson' : {i:j for i,j in zip(anderson(data)[2], anderson(data)[1])},\n",
    "             'Shapiro' : shapiro(data)[1],\n",
    "             'k^2': normaltest(data)[1]}\n",
    "    result['Anderson']['Stat'] = anderson(data)[0]\n",
    "    return result"
   ]
  },
  {
   "cell_type": "code",
   "execution_count": 37,
   "id": "386c25f3-5c77-4058-86d1-e42d2e557522",
   "metadata": {
    "tags": []
   },
   "outputs": [
    {
     "data": {
      "text/plain": [
       "{'Anderson': {15.0: 0.574,\n",
       "  10.0: 0.654,\n",
       "  5.0: 0.785,\n",
       "  2.5: 0.916,\n",
       "  1.0: 1.089,\n",
       "  'Stat': 41.69199630641583},\n",
       " 'Shapiro': 3.2072044604461286e-33,\n",
       " 'k^2': 2.283848353787728e-133}"
      ]
     },
     "execution_count": 37,
     "metadata": {},
     "output_type": "execute_result"
    }
   ],
   "source": [
    "try_normal(df['SalePrice'])"
   ]
  },
  {
   "cell_type": "markdown",
   "id": "f416a34a-5459-4178-8af7-e402b16626be",
   "metadata": {},
   "source": [
    "## Reference\n",
    "1. https://datatab.net/tutorial/descriptive-inferential-statistics\n",
    "2. https://www.scribbr.com/statistics/inferential-statistics/\n",
    "3. https://www.questionpro.com/blog/inferential-statistics/\n",
    "4. https://www.geeksforgeeks.org/style-plots-using-matplotlib/"
   ]
  }
 ],
 "metadata": {
  "kernelspec": {
   "display_name": "Python 3 (ipykernel)",
   "language": "python",
   "name": "python3"
  },
  "language_info": {
   "codemirror_mode": {
    "name": "ipython",
    "version": 3
   },
   "file_extension": ".py",
   "mimetype": "text/x-python",
   "name": "python",
   "nbconvert_exporter": "python",
   "pygments_lexer": "ipython3",
   "version": "3.11.4"
  }
 },
 "nbformat": 4,
 "nbformat_minor": 5
}
