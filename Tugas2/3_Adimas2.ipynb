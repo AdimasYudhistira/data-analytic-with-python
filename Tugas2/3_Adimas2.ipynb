{
 "cells": [
  {
   "cell_type": "markdown",
   "id": "b6f9fa0f-93d8-485c-8289-84e40e3161ce",
   "metadata": {
    "id": "b6f9fa0f-93d8-485c-8289-84e40e3161ce"
   },
   "source": [
    "+## TAKE HOME TEST - DESCRIPTIVE ANALYSIS"
   ]
  },
  {
   "cell_type": "markdown",
   "id": "7433aedc-9b07-4d69-b8be-374a9852c7ac",
   "metadata": {
    "id": "7433aedc-9b07-4d69-b8be-374a9852c7ac"
   },
   "source": [
    "> ### Objective:\n",
    "> - To demonstrate practical skills in data preprocessing and descriptive analysis.\n",
    ">\n",
    "> ### Dataset:\n",
    "> - The Adult dataset, available at [Kaggle - Titanic](https://www.kaggle.com/c/titanic/data).\n",
    "> - Contains data about the passengers aboard the Titanic, including age, gender, passenger class, and whether they survived or not."
   ]
  },
  {
   "cell_type": "markdown",
   "id": "2dce7ccc-ab50-44d4-a6de-0235d18946ea",
   "metadata": {
    "id": "2dce7ccc-ab50-44d4-a6de-0235d18946ea"
   },
   "source": [
    "### 1. DATA QUALITY ASSESSMENT\n",
    "> Load the dataset into a suitable data structure.\n",
    ">\n",
    "> Perform an initial inspection of the dataset, and identify:\n",
    "> - Number of rows and columns.\n",
    "> - Data types of each column.\n",
    "> - Missing values of each column.\n",
    "> - Any initial observations or issues you notice (if any)."
   ]
  },
  {
   "cell_type": "code",
   "execution_count": 1,
   "id": "5779c362-036d-4475-b13f-84c2e7367500",
   "metadata": {
    "tags": []
   },
   "outputs": [],
   "source": [
    "# Liblary\n",
    "import numpy as np\n",
    "import pandas as pd\n",
    "import seaborn as sns\n",
    "import matplotlib.pyplot as plt"
   ]
  },
  {
   "cell_type": "code",
   "execution_count": 2,
   "id": "95cee9b2-3857-466a-b3d3-f69811e880f8",
   "metadata": {
    "tags": []
   },
   "outputs": [],
   "source": [
    "# Load data\n",
    "df = pd.read_csv('data/titanic_train.csv')"
   ]
  },
  {
   "cell_type": "code",
   "execution_count": 3,
   "id": "eec3b4e9-f671-4414-8354-c9f35a4d86c0",
   "metadata": {
    "tags": []
   },
   "outputs": [
    {
     "name": "stdout",
     "output_type": "stream",
     "text": [
      "<class 'pandas.core.frame.DataFrame'>\n",
      "RangeIndex: 891 entries, 0 to 890\n",
      "Data columns (total 12 columns):\n",
      " #   Column       Non-Null Count  Dtype  \n",
      "---  ------       --------------  -----  \n",
      " 0   PassengerId  891 non-null    int64  \n",
      " 1   Survived     891 non-null    int64  \n",
      " 2   Pclass       891 non-null    int64  \n",
      " 3   Name         891 non-null    object \n",
      " 4   Sex          891 non-null    object \n",
      " 5   Age          714 non-null    float64\n",
      " 6   SibSp        891 non-null    int64  \n",
      " 7   Parch        891 non-null    int64  \n",
      " 8   Ticket       891 non-null    object \n",
      " 9   Fare         891 non-null    float64\n",
      " 10  Cabin        204 non-null    object \n",
      " 11  Embarked     889 non-null    object \n",
      "dtypes: float64(2), int64(5), object(5)\n",
      "memory usage: 83.7+ KB\n"
     ]
    }
   ],
   "source": [
    "# Data Info\n",
    "df.info()"
   ]
  },
  {
   "cell_type": "code",
   "execution_count": 4,
   "id": "b19a0750-2fe0-4ea9-9009-b2f85e2d41ca",
   "metadata": {
    "tags": []
   },
   "outputs": [
    {
     "name": "stdout",
     "output_type": "stream",
     "text": [
      "Number of rows and columns: (891, 12)\n"
     ]
    }
   ],
   "source": [
    "print(\"Number of rows and columns:\", df.shape)"
   ]
  },
  {
   "cell_type": "code",
   "execution_count": 5,
   "id": "7c276af2-2fae-4c09-bc42-626b20a0f508",
   "metadata": {
    "tags": []
   },
   "outputs": [
    {
     "name": "stdout",
     "output_type": "stream",
     "text": [
      "Data types of each column:\n",
      " PassengerId      int64\n",
      "Survived         int64\n",
      "Pclass           int64\n",
      "Name            object\n",
      "Sex             object\n",
      "Age            float64\n",
      "SibSp            int64\n",
      "Parch            int64\n",
      "Ticket          object\n",
      "Fare           float64\n",
      "Cabin           object\n",
      "Embarked        object\n",
      "dtype: object\n"
     ]
    }
   ],
   "source": [
    "print(\"Data types of each column:\\n\", df.dtypes)"
   ]
  },
  {
   "cell_type": "code",
   "execution_count": 6,
   "id": "ed019cf3-aed4-4578-b391-0a0cf98da1f1",
   "metadata": {
    "tags": []
   },
   "outputs": [
    {
     "name": "stdout",
     "output_type": "stream",
     "text": [
      "Missing values of each column:\n",
      " PassengerId      0\n",
      "Survived         0\n",
      "Pclass           0\n",
      "Name             0\n",
      "Sex              0\n",
      "Age            177\n",
      "SibSp            0\n",
      "Parch            0\n",
      "Ticket           0\n",
      "Fare             0\n",
      "Cabin          687\n",
      "Embarked         2\n",
      "dtype: int64\n"
     ]
    }
   ],
   "source": [
    "print(\"Missing values of each column:\\n\", df.isna().sum())"
   ]
  },
  {
   "cell_type": "code",
   "execution_count": 7,
   "id": "cc4edb00-0d3f-4b3d-a729-0eaff8d4e1a2",
   "metadata": {
    "tags": []
   },
   "outputs": [
    {
     "data": {
      "text/html": [
       "<div>\n",
       "<style scoped>\n",
       "    .dataframe tbody tr th:only-of-type {\n",
       "        vertical-align: middle;\n",
       "    }\n",
       "\n",
       "    .dataframe tbody tr th {\n",
       "        vertical-align: top;\n",
       "    }\n",
       "\n",
       "    .dataframe thead th {\n",
       "        text-align: right;\n",
       "    }\n",
       "</style>\n",
       "<table border=\"1\" class=\"dataframe\">\n",
       "  <thead>\n",
       "    <tr style=\"text-align: right;\">\n",
       "      <th></th>\n",
       "      <th>PassengerId</th>\n",
       "      <th>Survived</th>\n",
       "      <th>Pclass</th>\n",
       "      <th>Name</th>\n",
       "      <th>Sex</th>\n",
       "      <th>Age</th>\n",
       "      <th>SibSp</th>\n",
       "      <th>Parch</th>\n",
       "      <th>Ticket</th>\n",
       "      <th>Fare</th>\n",
       "      <th>Cabin</th>\n",
       "      <th>Embarked</th>\n",
       "    </tr>\n",
       "  </thead>\n",
       "  <tbody>\n",
       "    <tr>\n",
       "      <th>0</th>\n",
       "      <td>1</td>\n",
       "      <td>0</td>\n",
       "      <td>3</td>\n",
       "      <td>Braund, Mr. Owen Harris</td>\n",
       "      <td>male</td>\n",
       "      <td>22.0</td>\n",
       "      <td>1</td>\n",
       "      <td>0</td>\n",
       "      <td>A/5 21171</td>\n",
       "      <td>7.2500</td>\n",
       "      <td>NaN</td>\n",
       "      <td>S</td>\n",
       "    </tr>\n",
       "    <tr>\n",
       "      <th>1</th>\n",
       "      <td>2</td>\n",
       "      <td>1</td>\n",
       "      <td>1</td>\n",
       "      <td>Cumings, Mrs. John Bradley (Florence Briggs Th...</td>\n",
       "      <td>female</td>\n",
       "      <td>38.0</td>\n",
       "      <td>1</td>\n",
       "      <td>0</td>\n",
       "      <td>PC 17599</td>\n",
       "      <td>71.2833</td>\n",
       "      <td>C85</td>\n",
       "      <td>C</td>\n",
       "    </tr>\n",
       "    <tr>\n",
       "      <th>2</th>\n",
       "      <td>3</td>\n",
       "      <td>1</td>\n",
       "      <td>3</td>\n",
       "      <td>Heikkinen, Miss. Laina</td>\n",
       "      <td>female</td>\n",
       "      <td>26.0</td>\n",
       "      <td>0</td>\n",
       "      <td>0</td>\n",
       "      <td>STON/O2. 3101282</td>\n",
       "      <td>7.9250</td>\n",
       "      <td>NaN</td>\n",
       "      <td>S</td>\n",
       "    </tr>\n",
       "    <tr>\n",
       "      <th>3</th>\n",
       "      <td>4</td>\n",
       "      <td>1</td>\n",
       "      <td>1</td>\n",
       "      <td>Futrelle, Mrs. Jacques Heath (Lily May Peel)</td>\n",
       "      <td>female</td>\n",
       "      <td>35.0</td>\n",
       "      <td>1</td>\n",
       "      <td>0</td>\n",
       "      <td>113803</td>\n",
       "      <td>53.1000</td>\n",
       "      <td>C123</td>\n",
       "      <td>S</td>\n",
       "    </tr>\n",
       "    <tr>\n",
       "      <th>4</th>\n",
       "      <td>5</td>\n",
       "      <td>0</td>\n",
       "      <td>3</td>\n",
       "      <td>Allen, Mr. William Henry</td>\n",
       "      <td>male</td>\n",
       "      <td>35.0</td>\n",
       "      <td>0</td>\n",
       "      <td>0</td>\n",
       "      <td>373450</td>\n",
       "      <td>8.0500</td>\n",
       "      <td>NaN</td>\n",
       "      <td>S</td>\n",
       "    </tr>\n",
       "    <tr>\n",
       "      <th>5</th>\n",
       "      <td>6</td>\n",
       "      <td>0</td>\n",
       "      <td>3</td>\n",
       "      <td>Moran, Mr. James</td>\n",
       "      <td>male</td>\n",
       "      <td>NaN</td>\n",
       "      <td>0</td>\n",
       "      <td>0</td>\n",
       "      <td>330877</td>\n",
       "      <td>8.4583</td>\n",
       "      <td>NaN</td>\n",
       "      <td>Q</td>\n",
       "    </tr>\n",
       "    <tr>\n",
       "      <th>6</th>\n",
       "      <td>7</td>\n",
       "      <td>0</td>\n",
       "      <td>1</td>\n",
       "      <td>McCarthy, Mr. Timothy J</td>\n",
       "      <td>male</td>\n",
       "      <td>54.0</td>\n",
       "      <td>0</td>\n",
       "      <td>0</td>\n",
       "      <td>17463</td>\n",
       "      <td>51.8625</td>\n",
       "      <td>E46</td>\n",
       "      <td>S</td>\n",
       "    </tr>\n",
       "    <tr>\n",
       "      <th>7</th>\n",
       "      <td>8</td>\n",
       "      <td>0</td>\n",
       "      <td>3</td>\n",
       "      <td>Palsson, Master. Gosta Leonard</td>\n",
       "      <td>male</td>\n",
       "      <td>2.0</td>\n",
       "      <td>3</td>\n",
       "      <td>1</td>\n",
       "      <td>349909</td>\n",
       "      <td>21.0750</td>\n",
       "      <td>NaN</td>\n",
       "      <td>S</td>\n",
       "    </tr>\n",
       "    <tr>\n",
       "      <th>8</th>\n",
       "      <td>9</td>\n",
       "      <td>1</td>\n",
       "      <td>3</td>\n",
       "      <td>Johnson, Mrs. Oscar W (Elisabeth Vilhelmina Berg)</td>\n",
       "      <td>female</td>\n",
       "      <td>27.0</td>\n",
       "      <td>0</td>\n",
       "      <td>2</td>\n",
       "      <td>347742</td>\n",
       "      <td>11.1333</td>\n",
       "      <td>NaN</td>\n",
       "      <td>S</td>\n",
       "    </tr>\n",
       "    <tr>\n",
       "      <th>9</th>\n",
       "      <td>10</td>\n",
       "      <td>1</td>\n",
       "      <td>2</td>\n",
       "      <td>Nasser, Mrs. Nicholas (Adele Achem)</td>\n",
       "      <td>female</td>\n",
       "      <td>14.0</td>\n",
       "      <td>1</td>\n",
       "      <td>0</td>\n",
       "      <td>237736</td>\n",
       "      <td>30.0708</td>\n",
       "      <td>NaN</td>\n",
       "      <td>C</td>\n",
       "    </tr>\n",
       "  </tbody>\n",
       "</table>\n",
       "</div>"
      ],
      "text/plain": [
       "   PassengerId  Survived  Pclass  \\\n",
       "0            1         0       3   \n",
       "1            2         1       1   \n",
       "2            3         1       3   \n",
       "3            4         1       1   \n",
       "4            5         0       3   \n",
       "5            6         0       3   \n",
       "6            7         0       1   \n",
       "7            8         0       3   \n",
       "8            9         1       3   \n",
       "9           10         1       2   \n",
       "\n",
       "                                                Name     Sex   Age  SibSp  \\\n",
       "0                            Braund, Mr. Owen Harris    male  22.0      1   \n",
       "1  Cumings, Mrs. John Bradley (Florence Briggs Th...  female  38.0      1   \n",
       "2                             Heikkinen, Miss. Laina  female  26.0      0   \n",
       "3       Futrelle, Mrs. Jacques Heath (Lily May Peel)  female  35.0      1   \n",
       "4                           Allen, Mr. William Henry    male  35.0      0   \n",
       "5                                   Moran, Mr. James    male   NaN      0   \n",
       "6                            McCarthy, Mr. Timothy J    male  54.0      0   \n",
       "7                     Palsson, Master. Gosta Leonard    male   2.0      3   \n",
       "8  Johnson, Mrs. Oscar W (Elisabeth Vilhelmina Berg)  female  27.0      0   \n",
       "9                Nasser, Mrs. Nicholas (Adele Achem)  female  14.0      1   \n",
       "\n",
       "   Parch            Ticket     Fare Cabin Embarked  \n",
       "0      0         A/5 21171   7.2500   NaN        S  \n",
       "1      0          PC 17599  71.2833   C85        C  \n",
       "2      0  STON/O2. 3101282   7.9250   NaN        S  \n",
       "3      0            113803  53.1000  C123        S  \n",
       "4      0            373450   8.0500   NaN        S  \n",
       "5      0            330877   8.4583   NaN        Q  \n",
       "6      0             17463  51.8625   E46        S  \n",
       "7      1            349909  21.0750   NaN        S  \n",
       "8      2            347742  11.1333   NaN        S  \n",
       "9      0            237736  30.0708   NaN        C  "
      ]
     },
     "execution_count": 7,
     "metadata": {},
     "output_type": "execute_result"
    }
   ],
   "source": [
    "# Show few rows of the dataset\n",
    "df.head(10)"
   ]
  },
  {
   "cell_type": "markdown",
   "id": "1e15eeb2-6a08-4b2a-8e49-d90be0498316",
   "metadata": {},
   "source": [
    ">Based on the analysis results, the dataset has 891 rows and 12 columns, with 3 data types: object, float, and integer. There are missing values, and there is a column 'Age' that should data type changed from float to integer."
   ]
  },
  {
   "cell_type": "markdown",
   "id": "5e07abc2-2a28-4e60-ae2c-49a6961762fb",
   "metadata": {
    "id": "5e07abc2-2a28-4e60-ae2c-49a6961762fb",
    "tags": []
   },
   "source": [
    "### 2. DATA TYPE TRANSFORMATION\n",
    "> Identify columns that are not of the appropriate data type:\n",
    "> - Suggest a more suitable data type for these columns.\n",
    "> - Transform the identified columns to the suggested data types."
   ]
  },
  {
   "cell_type": "markdown",
   "id": "0526a02d-f07a-45cf-942a-65292cfb6371",
   "metadata": {},
   "source": [
    ">After further analysis, it turns out that **the data type of the 'Age' column does not need to be changed to an integer.** This is because, based on the dataset description:\n",
    ">- 'Age is fractional if less than 1': This means that if someone is less than 1 year old, their age will be represented in fractional form. For example, a person who is 6 months old might be represented as 0.5.\n",
    ">- Then 'If the age is estimated, is it in the form of xx.5': If someone's age is estimated, the estimate will be represented in the form of xx.5. For instance, if the age is estimated to be around 25 years, it will be represented as 25.5.\n",
    ">\n",
    ">In other words, decimal numbers, especially .5, are used to indicate that the age is not an exact number but an estimate. The use of .5 in age estimates helps to convey the uncertainty associated with the estimation."
   ]
  },
  {
   "cell_type": "markdown",
   "id": "d7f52fef-45db-4adb-90e1-931f6c1f9d2e",
   "metadata": {
    "id": "d7f52fef-45db-4adb-90e1-931f6c1f9d2e"
   },
   "source": [
    "### 3. MISSING VALUES HANDLING\n",
    "> For each missing values in each column:\n",
    "> - Identify any columns that have missing values, you can also show the number and percentage of missing values.\n",
    "> - Propose and justify your chosen method(s) for handling the missing values in each column.\n",
    "> - Implement your chosen method(s) to handle the missing values."
   ]
  },
  {
   "cell_type": "code",
   "execution_count": 8,
   "id": "fa525289-2400-4bb1-89df-52e1683a4521",
   "metadata": {
    "tags": []
   },
   "outputs": [
    {
     "name": "stdout",
     "output_type": "stream",
     "text": [
      "Number of missing values in each column:\n",
      " PassengerId      0\n",
      "Survived         0\n",
      "Pclass           0\n",
      "Name             0\n",
      "Sex              0\n",
      "Age            177\n",
      "SibSp            0\n",
      "Parch            0\n",
      "Ticket           0\n",
      "Fare             0\n",
      "Cabin          687\n",
      "Embarked         2\n",
      "dtype: int64\n",
      "\n",
      "Percentage of missing values in each column (decimal):\n",
      " PassengerId     0.000000\n",
      "Survived        0.000000\n",
      "Pclass          0.000000\n",
      "Name            0.000000\n",
      "Sex             0.000000\n",
      "Age            19.865320\n",
      "SibSp           0.000000\n",
      "Parch           0.000000\n",
      "Ticket          0.000000\n",
      "Fare            0.000000\n",
      "Cabin          77.104377\n",
      "Embarked        0.224467\n",
      "dtype: float64\n",
      "\n",
      "Percentage of missing values in each column:\n",
      " PassengerId      0.0%\n",
      "Survived         0.0%\n",
      "Pclass           0.0%\n",
      "Name             0.0%\n",
      "Sex              0.0%\n",
      "Age            19.87%\n",
      "SibSp            0.0%\n",
      "Parch            0.0%\n",
      "Ticket           0.0%\n",
      "Fare             0.0%\n",
      "Cabin           77.1%\n",
      "Embarked        0.22%\n",
      "dtype: object\n"
     ]
    }
   ],
   "source": [
    "# Identify any columns that have missing values, you can also show the number and percentage of missing values.\n",
    "print(\"Number of missing values in each column:\\n\", df.isna().sum())\n",
    "print(\"\\nPercentage of missing values in each column (decimal):\\n\", (df.isna().sum() / len(df)) * 100)\n",
    "print(\"\\nPercentage of missing values in each column:\\n\", (df.isnull().sum() / len(df) * 100).round(2).astype(str) + '%')"
   ]
  },
  {
   "cell_type": "markdown",
   "id": "2f1b27e2-d495-4b22-b039-ecfc72ffcd53",
   "metadata": {},
   "source": [
    ">#### Handling Missing Values Age with fillna"
   ]
  },
  {
   "cell_type": "code",
   "execution_count": 9,
   "id": "28eae15a-d501-40c9-9bc5-558c4535b9f1",
   "metadata": {
    "tags": []
   },
   "outputs": [
    {
     "data": {
      "text/html": [
       "<div>\n",
       "<style scoped>\n",
       "    .dataframe tbody tr th:only-of-type {\n",
       "        vertical-align: middle;\n",
       "    }\n",
       "\n",
       "    .dataframe tbody tr th {\n",
       "        vertical-align: top;\n",
       "    }\n",
       "\n",
       "    .dataframe thead th {\n",
       "        text-align: right;\n",
       "    }\n",
       "</style>\n",
       "<table border=\"1\" class=\"dataframe\">\n",
       "  <thead>\n",
       "    <tr style=\"text-align: right;\">\n",
       "      <th></th>\n",
       "      <th>PassengerId</th>\n",
       "      <th>Survived</th>\n",
       "      <th>Pclass</th>\n",
       "      <th>Age</th>\n",
       "      <th>SibSp</th>\n",
       "      <th>Parch</th>\n",
       "      <th>Fare</th>\n",
       "    </tr>\n",
       "  </thead>\n",
       "  <tbody>\n",
       "    <tr>\n",
       "      <th>count</th>\n",
       "      <td>891.000000</td>\n",
       "      <td>891.000000</td>\n",
       "      <td>891.000000</td>\n",
       "      <td>714.000000</td>\n",
       "      <td>891.000000</td>\n",
       "      <td>891.000000</td>\n",
       "      <td>891.000000</td>\n",
       "    </tr>\n",
       "    <tr>\n",
       "      <th>mean</th>\n",
       "      <td>446.000000</td>\n",
       "      <td>0.383838</td>\n",
       "      <td>2.308642</td>\n",
       "      <td>29.699118</td>\n",
       "      <td>0.523008</td>\n",
       "      <td>0.381594</td>\n",
       "      <td>32.204208</td>\n",
       "    </tr>\n",
       "    <tr>\n",
       "      <th>std</th>\n",
       "      <td>257.353842</td>\n",
       "      <td>0.486592</td>\n",
       "      <td>0.836071</td>\n",
       "      <td>14.526497</td>\n",
       "      <td>1.102743</td>\n",
       "      <td>0.806057</td>\n",
       "      <td>49.693429</td>\n",
       "    </tr>\n",
       "    <tr>\n",
       "      <th>min</th>\n",
       "      <td>1.000000</td>\n",
       "      <td>0.000000</td>\n",
       "      <td>1.000000</td>\n",
       "      <td>0.420000</td>\n",
       "      <td>0.000000</td>\n",
       "      <td>0.000000</td>\n",
       "      <td>0.000000</td>\n",
       "    </tr>\n",
       "    <tr>\n",
       "      <th>25%</th>\n",
       "      <td>223.500000</td>\n",
       "      <td>0.000000</td>\n",
       "      <td>2.000000</td>\n",
       "      <td>20.125000</td>\n",
       "      <td>0.000000</td>\n",
       "      <td>0.000000</td>\n",
       "      <td>7.910400</td>\n",
       "    </tr>\n",
       "    <tr>\n",
       "      <th>50%</th>\n",
       "      <td>446.000000</td>\n",
       "      <td>0.000000</td>\n",
       "      <td>3.000000</td>\n",
       "      <td>28.000000</td>\n",
       "      <td>0.000000</td>\n",
       "      <td>0.000000</td>\n",
       "      <td>14.454200</td>\n",
       "    </tr>\n",
       "    <tr>\n",
       "      <th>75%</th>\n",
       "      <td>668.500000</td>\n",
       "      <td>1.000000</td>\n",
       "      <td>3.000000</td>\n",
       "      <td>38.000000</td>\n",
       "      <td>1.000000</td>\n",
       "      <td>0.000000</td>\n",
       "      <td>31.000000</td>\n",
       "    </tr>\n",
       "    <tr>\n",
       "      <th>max</th>\n",
       "      <td>891.000000</td>\n",
       "      <td>1.000000</td>\n",
       "      <td>3.000000</td>\n",
       "      <td>80.000000</td>\n",
       "      <td>8.000000</td>\n",
       "      <td>6.000000</td>\n",
       "      <td>512.329200</td>\n",
       "    </tr>\n",
       "  </tbody>\n",
       "</table>\n",
       "</div>"
      ],
      "text/plain": [
       "       PassengerId    Survived      Pclass         Age       SibSp  \\\n",
       "count   891.000000  891.000000  891.000000  714.000000  891.000000   \n",
       "mean    446.000000    0.383838    2.308642   29.699118    0.523008   \n",
       "std     257.353842    0.486592    0.836071   14.526497    1.102743   \n",
       "min       1.000000    0.000000    1.000000    0.420000    0.000000   \n",
       "25%     223.500000    0.000000    2.000000   20.125000    0.000000   \n",
       "50%     446.000000    0.000000    3.000000   28.000000    0.000000   \n",
       "75%     668.500000    1.000000    3.000000   38.000000    1.000000   \n",
       "max     891.000000    1.000000    3.000000   80.000000    8.000000   \n",
       "\n",
       "            Parch        Fare  \n",
       "count  891.000000  891.000000  \n",
       "mean     0.381594   32.204208  \n",
       "std      0.806057   49.693429  \n",
       "min      0.000000    0.000000  \n",
       "25%      0.000000    7.910400  \n",
       "50%      0.000000   14.454200  \n",
       "75%      0.000000   31.000000  \n",
       "max      6.000000  512.329200  "
      ]
     },
     "execution_count": 9,
     "metadata": {},
     "output_type": "execute_result"
    }
   ],
   "source": [
    "df.describe()"
   ]
  },
  {
   "cell_type": "code",
   "execution_count": 10,
   "id": "e5be9a9a-a4b1-4dcd-8c23-c01a8912467d",
   "metadata": {
    "tags": []
   },
   "outputs": [
    {
     "name": "stdout",
     "output_type": "stream",
     "text": [
      "Mode of Age: 0    24.0\n",
      "Name: Age, dtype: float64\n"
     ]
    }
   ],
   "source": [
    "# Mendapatkan nilai modus dari kolom 'Age'\n",
    "mode_age = df['Age'].mode()\n",
    "\n",
    "# Menampilkan nilai modus\n",
    "print(\"Mode of Age:\", mode_age)"
   ]
  },
  {
   "cell_type": "markdown",
   "id": "a649aa17-82ff-4fd3-96a3-61a246128332",
   "metadata": {},
   "source": [
    ">There is two mode value in 'Age' Column, i will use fillna with 24.0"
   ]
  },
  {
   "cell_type": "code",
   "execution_count": 11,
   "id": "bdd95ace-893d-4299-98a5-b4c64166a450",
   "metadata": {
    "tags": []
   },
   "outputs": [],
   "source": [
    "# Mengganti missing values pada kolom 'Age' dengan nilai modus (24.0)\n",
    "df['Age'] = df['Age'].fillna(mode_age.iloc[0])"
   ]
  },
  {
   "cell_type": "markdown",
   "id": "43da6ca0-f7f5-4227-94dc-3ab5a4acf6d2",
   "metadata": {},
   "source": [
    "> Handling missing values column 'Cabin' with fillna"
   ]
  },
  {
   "cell_type": "code",
   "execution_count": 12,
   "id": "4e182969-bef3-480a-a40b-7c5782488f1c",
   "metadata": {
    "tags": []
   },
   "outputs": [
    {
     "data": {
      "text/html": [
       "<div>\n",
       "<style scoped>\n",
       "    .dataframe tbody tr th:only-of-type {\n",
       "        vertical-align: middle;\n",
       "    }\n",
       "\n",
       "    .dataframe tbody tr th {\n",
       "        vertical-align: top;\n",
       "    }\n",
       "\n",
       "    .dataframe thead th {\n",
       "        text-align: right;\n",
       "    }\n",
       "</style>\n",
       "<table border=\"1\" class=\"dataframe\">\n",
       "  <thead>\n",
       "    <tr style=\"text-align: right;\">\n",
       "      <th></th>\n",
       "      <th>Name</th>\n",
       "      <th>Sex</th>\n",
       "      <th>Ticket</th>\n",
       "      <th>Cabin</th>\n",
       "      <th>Embarked</th>\n",
       "    </tr>\n",
       "  </thead>\n",
       "  <tbody>\n",
       "    <tr>\n",
       "      <th>count</th>\n",
       "      <td>891</td>\n",
       "      <td>891</td>\n",
       "      <td>891</td>\n",
       "      <td>204</td>\n",
       "      <td>889</td>\n",
       "    </tr>\n",
       "    <tr>\n",
       "      <th>unique</th>\n",
       "      <td>891</td>\n",
       "      <td>2</td>\n",
       "      <td>681</td>\n",
       "      <td>147</td>\n",
       "      <td>3</td>\n",
       "    </tr>\n",
       "    <tr>\n",
       "      <th>top</th>\n",
       "      <td>Braund, Mr. Owen Harris</td>\n",
       "      <td>male</td>\n",
       "      <td>347082</td>\n",
       "      <td>B96 B98</td>\n",
       "      <td>S</td>\n",
       "    </tr>\n",
       "    <tr>\n",
       "      <th>freq</th>\n",
       "      <td>1</td>\n",
       "      <td>577</td>\n",
       "      <td>7</td>\n",
       "      <td>4</td>\n",
       "      <td>644</td>\n",
       "    </tr>\n",
       "  </tbody>\n",
       "</table>\n",
       "</div>"
      ],
      "text/plain": [
       "                           Name   Sex  Ticket    Cabin Embarked\n",
       "count                       891   891     891      204      889\n",
       "unique                      891     2     681      147        3\n",
       "top     Braund, Mr. Owen Harris  male  347082  B96 B98        S\n",
       "freq                          1   577       7        4      644"
      ]
     },
     "execution_count": 12,
     "metadata": {},
     "output_type": "execute_result"
    }
   ],
   "source": [
    "df.describe(include='object')"
   ]
  },
  {
   "cell_type": "code",
   "execution_count": 13,
   "id": "746eb245-d604-4077-a5d1-934f6b11ec21",
   "metadata": {},
   "outputs": [],
   "source": [
    "# Mengganti missing values pada kolom 'Cabin' dengan modus/top data nya\n",
    "df['Cabin'] = df['Cabin'].fillna('B96 B98')"
   ]
  },
  {
   "cell_type": "markdown",
   "id": "a0845ae4-1152-4fc4-85b5-e418dd2f5625",
   "metadata": {},
   "source": [
    "> Handling missing values column 'Embarked' using listwise delete/rows delete"
   ]
  },
  {
   "cell_type": "code",
   "execution_count": 14,
   "id": "8e8aab38-ad36-4552-8fdc-49d92f3b1f7d",
   "metadata": {
    "tags": []
   },
   "outputs": [],
   "source": [
    "#dropping missing values column 'Embarked' using dropna\n",
    "df_drop = df.dropna()"
   ]
  },
  {
   "cell_type": "code",
   "execution_count": 15,
   "id": "745ce8c7-c960-4050-98c6-baaf9b5b84e9",
   "metadata": {},
   "outputs": [],
   "source": [
    "# reset index\n",
    "df_drop = df_drop.reset_index(drop=True)"
   ]
  },
  {
   "cell_type": "code",
   "execution_count": 16,
   "id": "7c90645b-53dd-4f1f-aa9b-839a5bd0500c",
   "metadata": {
    "tags": []
   },
   "outputs": [
    {
     "data": {
      "text/plain": [
       "PassengerId    0\n",
       "Survived       0\n",
       "Pclass         0\n",
       "Name           0\n",
       "Sex            0\n",
       "Age            0\n",
       "SibSp          0\n",
       "Parch          0\n",
       "Ticket         0\n",
       "Fare           0\n",
       "Cabin          0\n",
       "Embarked       0\n",
       "dtype: int64"
      ]
     },
     "execution_count": 16,
     "metadata": {},
     "output_type": "execute_result"
    }
   ],
   "source": [
    "df_drop.isna().sum()"
   ]
  },
  {
   "cell_type": "code",
   "execution_count": 17,
   "id": "d5c086f8-979d-42de-a018-2fa62f1b1a42",
   "metadata": {},
   "outputs": [
    {
     "data": {
      "text/plain": [
       "(889, 12)"
      ]
     },
     "execution_count": 17,
     "metadata": {},
     "output_type": "execute_result"
    }
   ],
   "source": [
    "df_drop.shape"
   ]
  },
  {
   "cell_type": "markdown",
   "id": "a8e446dd-23d7-4d3f-9a4d-2296ed3ff233",
   "metadata": {},
   "source": [
    ">Finally, **the dataset is now no missing values.** Let's proceed to the next stage of analysis."
   ]
  },
  {
   "cell_type": "markdown",
   "id": "fbc9e581-0198-4714-92e2-09ce205afbcb",
   "metadata": {
    "id": "fbc9e581-0198-4714-92e2-09ce205afbcb"
   },
   "source": [
    "### 4. DETECTING AND HANDLING OUTLIERS\n",
    "> Using suitable techniques, identify columns that have outliers:\n",
    "> - Report these columns and the number of outliers detected.\n",
    "> - Propose a strategy to handle the outliers. Justify your choice of strategy.\n",
    "> - Implement the chosen strategies to handle the outliers."
   ]
  },
  {
   "cell_type": "code",
   "execution_count": 18,
   "id": "86964dce-fe69-49b8-882b-9d3139136515",
   "metadata": {
    "tags": []
   },
   "outputs": [],
   "source": [
    "df_num = df.select_dtypes(exclude = ['object']) "
   ]
  },
  {
   "cell_type": "code",
   "execution_count": 19,
   "id": "cde09582-92a8-426f-8485-0688a491e32d",
   "metadata": {
    "tags": []
   },
   "outputs": [
    {
     "data": {
      "image/png": "[encoded data removed]",
      "text/plain": [
       "<Figure size 640x480 with 1 Axes>"
      ]
     },
     "metadata": {},
     "output_type": "display_data"
    },
    {
     "data": {
      "image/png": "[encoded data removed]",
      "text/plain": [
       "<Figure size 640x480 with 1 Axes>"
      ]
     },
     "metadata": {},
     "output_type": "display_data"
    },
    {
     "data": {
      "image/png": "[encoded data removed]",
      "text/plain": [
       "<Figure size 640x480 with 1 Axes>"
      ]
     },
     "metadata": {},
     "output_type": "display_data"
    },
    {
     "data": {
      "image/png": "[encoded data removed]",
      "text/plain": [
       "<Figure size 640x480 with 1 Axes>"
      ]
     },
     "metadata": {},
     "output_type": "display_data"
    },
    {
     "data": {
      "image/png": "[encoded data removed]",
      "text/plain": [
       "<Figure size 640x480 with 1 Axes>"
      ]
     },
     "metadata": {},
     "output_type": "display_data"
    },
    {
     "data": {
      "image/png": "[encoded data removed]",
      "text/plain": [
       "<Figure size 640x480 with 1 Axes>"
      ]
     },
     "metadata": {},
     "output_type": "display_data"
    },
    {
     "data": {
      "image/png": "[encoded data removed]",
      "text/plain": [
       "<Figure size 640x480 with 1 Axes>"
      ]
     },
     "metadata": {},
     "output_type": "display_data"
    }
   ],
   "source": [
    "# Detecting outliers using boxplot\n",
    "for i in df_num:\n",
    "    sns.boxplot(data= df_num, x=i)\n",
    "    plt.show()"
   ]
  },
  {
   "cell_type": "markdown",
   "id": "95de425e-1814-4429-bd7b-e0ebd99e8d01",
   "metadata": {},
   "source": [
    ">Based on the analysis results of checking outliers using a boxplot, there are outliers in the dataset in the columns Age, SibSp, Parch, and Fare. I will handle these outliers."
   ]
  },
  {
   "cell_type": "code",
   "execution_count": 20,
   "id": "ad8c22b3-7f4a-4350-9096-dac57db02fd8",
   "metadata": {
    "tags": []
   },
   "outputs": [],
   "source": [
    "# Fungsi untuk mengidentifikasi outliers menggunakan metode IQR\n",
    "def find_outliers_iqr(column):\n",
    "    if df[column].dtype in ['int64', 'float64']:\n",
    "        Q1 = df[column].quantile(0.25)\n",
    "        Q3 = df[column].quantile(0.75)\n",
    "        IQR = Q3 - Q1\n",
    "        lower_bound = Q1 - 1.5 * IQR\n",
    "        upper_bound = Q3 + 1.5 * IQR\n",
    "        outliers = df[(df[column] < lower_bound) | (df[column] > upper_bound)]\n",
    "        return outliers\n",
    "    else:\n",
    "        return pd.DataFrame()\n",
    "\n",
    "# Mengidentifikasi kolom-kolom dengan outliers\n",
    "columns_with_outliers = []\n",
    "outliers_counts = {}\n",
    "\n",
    "for column in df.columns:\n",
    "    outliers = find_outliers_iqr(column)\n",
    "    if not outliers.empty:\n",
    "        columns_with_outliers.append(column)\n",
    "        outliers_counts[column] = len(outliers)\n",
    "\n",
    "# Strategi untuk menangani outliers: Menghapus baris yang mengandung outliers\n",
    "for column in columns_with_outliers:\n",
    "    outliers = find_outliers_iqr(column)\n",
    "    df = df.drop(outliers.index)"
   ]
  },
  {
   "cell_type": "code",
   "execution_count": 21,
   "id": "950ef191-a563-48c8-88a2-8f17eb38bb3a",
   "metadata": {},
   "outputs": [
    {
     "name": "stdout",
     "output_type": "stream",
     "text": [
      "Columns with outliers and the number of outliers detected:\n",
      "Age: 66 outliers\n",
      "SibSp: 46 outliers\n",
      "Parch: 213 outliers\n",
      "Fare: 116 outliers\n"
     ]
    }
   ],
   "source": [
    "# Menampilkan kolom-kolom dengan outliers dan jumlah outliers\n",
    "print(\"Columns with outliers and the number of outliers detected:\")\n",
    "for column in columns_with_outliers:\n",
    "    print(f\"{column}: {outliers_counts[column]} outliers\")"
   ]
  },
  {
   "cell_type": "code",
   "execution_count": 22,
   "id": "f39a7565-0923-4e4c-bb38-9813172a99e5",
   "metadata": {
    "tags": []
   },
   "outputs": [
    {
     "name": "stdout",
     "output_type": "stream",
     "text": [
      "\n",
      "Number of rows after handling outliers: 561\n"
     ]
    }
   ],
   "source": [
    "# Menampilkan informasi setelah penanganan outliers\n",
    "print(\"\\nNumber of rows after handling outliers:\", len(df))"
   ]
  },
  {
   "cell_type": "code",
   "execution_count": 23,
   "id": "86a909d0-9ced-46bc-a39e-9f2a5bbdcae0",
   "metadata": {
    "tags": []
   },
   "outputs": [
    {
     "data": {
      "image/png": "[encoded data removed]",
      "text/plain": [
       "<Figure size 800x600 with 1 Axes>"
      ]
     },
     "metadata": {},
     "output_type": "display_data"
    },
    {
     "data": {
      "image/png": "[encoded data removed]",
      "text/plain": [
       "<Figure size 800x600 with 1 Axes>"
      ]
     },
     "metadata": {},
     "output_type": "display_data"
    },
    {
     "data": {
      "image/png": "[encoded data removed]",
      "text/plain": [
       "<Figure size 800x600 with 1 Axes>"
      ]
     },
     "metadata": {},
     "output_type": "display_data"
    },
    {
     "data": {
      "image/png": "[encoded data removed]",
      "text/plain": [
       "<Figure size 800x600 with 1 Axes>"
      ]
     },
     "metadata": {},
     "output_type": "display_data"
    }
   ],
   "source": [
    "for column in columns_with_outliers:\n",
    "    plt.figure(figsize=(8, 6))\n",
    "    sns.boxplot(x=df[column])\n",
    "    plt.title(f'Boxplot of {column} after Outlier Removal')\n",
    "    plt.show()"
   ]
  },
  {
   "cell_type": "markdown",
   "id": "4bd16f3b-450f-47a7-b103-2a80796f40f0",
   "metadata": {
    "id": "4bd16f3b-450f-47a7-b103-2a80796f40f0"
   },
   "source": [
    "### 5. DESCRIPTIVE ANALYSIS\n",
    "> Explore the data by doing descriptive analysis.\n",
    ">\n",
    "> Descriptive Statistics:\n",
    "> - Compute and report central tendencies (mean, median, mode) for relevant columns.\n",
    "> - Report dispersions (variance, standard deviation, range) for key numerical columns.\n",
    "> - Analyze the distribution of key categorical variables, including counts and proportions.\n",
    ">\n",
    "> Visual Analysis (optional):\n",
    "> - Use histograms, box plots, and bar charts to visualize distributions and relationships of key variables."
   ]
  },
  {
   "cell_type": "markdown",
   "id": "11ae1d8d-c2b1-4f38-94b9-490b02851ee5",
   "metadata": {},
   "source": [
    "> Compute and report central tendencies (mean, median, mode) for relevant columns."
   ]
  },
  {
   "cell_type": "code",
   "execution_count": 24,
   "id": "4fac7f11-946f-4562-b59a-9c0139766486",
   "metadata": {
    "id": "4fac7f11-946f-4562-b59a-9c0139766486",
    "tags": []
   },
   "outputs": [
    {
     "data": {
      "text/html": [
       "<div>\n",
       "<style scoped>\n",
       "    .dataframe tbody tr th:only-of-type {\n",
       "        vertical-align: middle;\n",
       "    }\n",
       "\n",
       "    .dataframe tbody tr th {\n",
       "        vertical-align: top;\n",
       "    }\n",
       "\n",
       "    .dataframe thead th {\n",
       "        text-align: right;\n",
       "    }\n",
       "</style>\n",
       "<table border=\"1\" class=\"dataframe\">\n",
       "  <thead>\n",
       "    <tr style=\"text-align: right;\">\n",
       "      <th></th>\n",
       "      <th>PassengerId</th>\n",
       "      <th>Survived</th>\n",
       "      <th>Pclass</th>\n",
       "      <th>Age</th>\n",
       "      <th>SibSp</th>\n",
       "      <th>Parch</th>\n",
       "      <th>Fare</th>\n",
       "    </tr>\n",
       "  </thead>\n",
       "  <tbody>\n",
       "    <tr>\n",
       "      <th>count</th>\n",
       "      <td>561.000000</td>\n",
       "      <td>561.000000</td>\n",
       "      <td>561.000000</td>\n",
       "      <td>561.000000</td>\n",
       "      <td>561.000000</td>\n",
       "      <td>561.0</td>\n",
       "      <td>561.000000</td>\n",
       "    </tr>\n",
       "    <tr>\n",
       "      <th>mean</th>\n",
       "      <td>448.946524</td>\n",
       "      <td>0.286988</td>\n",
       "      <td>2.520499</td>\n",
       "      <td>28.130125</td>\n",
       "      <td>0.190731</td>\n",
       "      <td>0.0</td>\n",
       "      <td>13.727918</td>\n",
       "    </tr>\n",
       "    <tr>\n",
       "      <th>std</th>\n",
       "      <td>259.912212</td>\n",
       "      <td>0.452759</td>\n",
       "      <td>0.717155</td>\n",
       "      <td>8.783609</td>\n",
       "      <td>0.440357</td>\n",
       "      <td>0.0</td>\n",
       "      <td>10.560514</td>\n",
       "    </tr>\n",
       "    <tr>\n",
       "      <th>min</th>\n",
       "      <td>1.000000</td>\n",
       "      <td>0.000000</td>\n",
       "      <td>1.000000</td>\n",
       "      <td>5.000000</td>\n",
       "      <td>0.000000</td>\n",
       "      <td>0.0</td>\n",
       "      <td>0.000000</td>\n",
       "    </tr>\n",
       "    <tr>\n",
       "      <th>25%</th>\n",
       "      <td>221.000000</td>\n",
       "      <td>0.000000</td>\n",
       "      <td>2.000000</td>\n",
       "      <td>24.000000</td>\n",
       "      <td>0.000000</td>\n",
       "      <td>0.0</td>\n",
       "      <td>7.775000</td>\n",
       "    </tr>\n",
       "    <tr>\n",
       "      <th>50%</th>\n",
       "      <td>452.000000</td>\n",
       "      <td>0.000000</td>\n",
       "      <td>3.000000</td>\n",
       "      <td>24.000000</td>\n",
       "      <td>0.000000</td>\n",
       "      <td>0.0</td>\n",
       "      <td>8.458300</td>\n",
       "    </tr>\n",
       "    <tr>\n",
       "      <th>75%</th>\n",
       "      <td>675.000000</td>\n",
       "      <td>1.000000</td>\n",
       "      <td>3.000000</td>\n",
       "      <td>32.000000</td>\n",
       "      <td>0.000000</td>\n",
       "      <td>0.0</td>\n",
       "      <td>15.050000</td>\n",
       "    </tr>\n",
       "    <tr>\n",
       "      <th>max</th>\n",
       "      <td>891.000000</td>\n",
       "      <td>1.000000</td>\n",
       "      <td>3.000000</td>\n",
       "      <td>54.000000</td>\n",
       "      <td>2.000000</td>\n",
       "      <td>0.0</td>\n",
       "      <td>53.100000</td>\n",
       "    </tr>\n",
       "  </tbody>\n",
       "</table>\n",
       "</div>"
      ],
      "text/plain": [
       "       PassengerId    Survived      Pclass         Age       SibSp  Parch  \\\n",
       "count   561.000000  561.000000  561.000000  561.000000  561.000000  561.0   \n",
       "mean    448.946524    0.286988    2.520499   28.130125    0.190731    0.0   \n",
       "std     259.912212    0.452759    0.717155    8.783609    0.440357    0.0   \n",
       "min       1.000000    0.000000    1.000000    5.000000    0.000000    0.0   \n",
       "25%     221.000000    0.000000    2.000000   24.000000    0.000000    0.0   \n",
       "50%     452.000000    0.000000    3.000000   24.000000    0.000000    0.0   \n",
       "75%     675.000000    1.000000    3.000000   32.000000    0.000000    0.0   \n",
       "max     891.000000    1.000000    3.000000   54.000000    2.000000    0.0   \n",
       "\n",
       "             Fare  \n",
       "count  561.000000  \n",
       "mean    13.727918  \n",
       "std     10.560514  \n",
       "min      0.000000  \n",
       "25%      7.775000  \n",
       "50%      8.458300  \n",
       "75%     15.050000  \n",
       "max     53.100000  "
      ]
     },
     "execution_count": 24,
     "metadata": {},
     "output_type": "execute_result"
    }
   ],
   "source": [
    "# describing of dataset\n",
    "df.describe()"
   ]
  },
  {
   "cell_type": "code",
   "execution_count": 25,
   "id": "ef39a627-12f5-4762-9486-59cd54c97d13",
   "metadata": {
    "tags": []
   },
   "outputs": [
    {
     "data": {
      "text/plain": [
       "PassengerId    448.946524\n",
       "Survived         0.286988\n",
       "Pclass           2.520499\n",
       "Age             28.130125\n",
       "SibSp            0.190731\n",
       "Parch            0.000000\n",
       "Fare            13.727918\n",
       "dtype: float64"
      ]
     },
     "execution_count": 25,
     "metadata": {},
     "output_type": "execute_result"
    }
   ],
   "source": [
    "# Computing mean\n",
    "df.mean(numeric_only=True)"
   ]
  },
  {
   "cell_type": "code",
   "execution_count": 26,
   "id": "ca258e9f-f211-4862-9931-8b58da761a23",
   "metadata": {
    "tags": []
   },
   "outputs": [
    {
     "data": {
      "text/plain": [
       "PassengerId    452.0000\n",
       "Survived         0.0000\n",
       "Pclass           3.0000\n",
       "Age             24.0000\n",
       "SibSp            0.0000\n",
       "Parch            0.0000\n",
       "Fare             8.4583\n",
       "dtype: float64"
      ]
     },
     "execution_count": 26,
     "metadata": {},
     "output_type": "execute_result"
    }
   ],
   "source": [
    "# Computing median\n",
    "df.median(numeric_only=True)"
   ]
  },
  {
   "cell_type": "code",
   "execution_count": 27,
   "id": "5df60175-c799-4333-9005-10ab06fd92b0",
   "metadata": {
    "tags": []
   },
   "outputs": [
    {
     "data": {
      "text/html": [
       "<div>\n",
       "<style scoped>\n",
       "    .dataframe tbody tr th:only-of-type {\n",
       "        vertical-align: middle;\n",
       "    }\n",
       "\n",
       "    .dataframe tbody tr th {\n",
       "        vertical-align: top;\n",
       "    }\n",
       "\n",
       "    .dataframe thead th {\n",
       "        text-align: right;\n",
       "    }\n",
       "</style>\n",
       "<table border=\"1\" class=\"dataframe\">\n",
       "  <thead>\n",
       "    <tr style=\"text-align: right;\">\n",
       "      <th></th>\n",
       "      <th>PassengerId</th>\n",
       "      <th>Survived</th>\n",
       "      <th>Pclass</th>\n",
       "      <th>Name</th>\n",
       "      <th>Sex</th>\n",
       "      <th>Age</th>\n",
       "      <th>SibSp</th>\n",
       "      <th>Parch</th>\n",
       "      <th>Ticket</th>\n",
       "      <th>Fare</th>\n",
       "      <th>Cabin</th>\n",
       "      <th>Embarked</th>\n",
       "    </tr>\n",
       "  </thead>\n",
       "  <tbody>\n",
       "    <tr>\n",
       "      <th>0</th>\n",
       "      <td>1</td>\n",
       "      <td>0.0</td>\n",
       "      <td>3.0</td>\n",
       "      <td>Abbing, Mr. Anthony</td>\n",
       "      <td>male</td>\n",
       "      <td>24.0</td>\n",
       "      <td>0.0</td>\n",
       "      <td>0.0</td>\n",
       "      <td>LINE</td>\n",
       "      <td>8.05</td>\n",
       "      <td>B96 B98</td>\n",
       "      <td>S</td>\n",
       "    </tr>\n",
       "    <tr>\n",
       "      <th>1</th>\n",
       "      <td>3</td>\n",
       "      <td>NaN</td>\n",
       "      <td>NaN</td>\n",
       "      <td>Abelson, Mr. Samuel</td>\n",
       "      <td>NaN</td>\n",
       "      <td>NaN</td>\n",
       "      <td>NaN</td>\n",
       "      <td>NaN</td>\n",
       "      <td>NaN</td>\n",
       "      <td>NaN</td>\n",
       "      <td>NaN</td>\n",
       "      <td>NaN</td>\n",
       "    </tr>\n",
       "    <tr>\n",
       "      <th>2</th>\n",
       "      <td>4</td>\n",
       "      <td>NaN</td>\n",
       "      <td>NaN</td>\n",
       "      <td>Abelson, Mrs. Samuel (Hannah Wizosky)</td>\n",
       "      <td>NaN</td>\n",
       "      <td>NaN</td>\n",
       "      <td>NaN</td>\n",
       "      <td>NaN</td>\n",
       "      <td>NaN</td>\n",
       "      <td>NaN</td>\n",
       "      <td>NaN</td>\n",
       "      <td>NaN</td>\n",
       "    </tr>\n",
       "    <tr>\n",
       "      <th>3</th>\n",
       "      <td>5</td>\n",
       "      <td>NaN</td>\n",
       "      <td>NaN</td>\n",
       "      <td>Adahl, Mr. Mauritz Nils Martin</td>\n",
       "      <td>NaN</td>\n",
       "      <td>NaN</td>\n",
       "      <td>NaN</td>\n",
       "      <td>NaN</td>\n",
       "      <td>NaN</td>\n",
       "      <td>NaN</td>\n",
       "      <td>NaN</td>\n",
       "      <td>NaN</td>\n",
       "    </tr>\n",
       "    <tr>\n",
       "      <th>4</th>\n",
       "      <td>6</td>\n",
       "      <td>NaN</td>\n",
       "      <td>NaN</td>\n",
       "      <td>Adams, Mr. John</td>\n",
       "      <td>NaN</td>\n",
       "      <td>NaN</td>\n",
       "      <td>NaN</td>\n",
       "      <td>NaN</td>\n",
       "      <td>NaN</td>\n",
       "      <td>NaN</td>\n",
       "      <td>NaN</td>\n",
       "      <td>NaN</td>\n",
       "    </tr>\n",
       "    <tr>\n",
       "      <th>...</th>\n",
       "      <td>...</td>\n",
       "      <td>...</td>\n",
       "      <td>...</td>\n",
       "      <td>...</td>\n",
       "      <td>...</td>\n",
       "      <td>...</td>\n",
       "      <td>...</td>\n",
       "      <td>...</td>\n",
       "      <td>...</td>\n",
       "      <td>...</td>\n",
       "      <td>...</td>\n",
       "      <td>...</td>\n",
       "    </tr>\n",
       "    <tr>\n",
       "      <th>556</th>\n",
       "      <td>885</td>\n",
       "      <td>NaN</td>\n",
       "      <td>NaN</td>\n",
       "      <td>de Messemaeker, Mrs. Guillaume Joseph (Emma)</td>\n",
       "      <td>NaN</td>\n",
       "      <td>NaN</td>\n",
       "      <td>NaN</td>\n",
       "      <td>NaN</td>\n",
       "      <td>NaN</td>\n",
       "      <td>NaN</td>\n",
       "      <td>NaN</td>\n",
       "      <td>NaN</td>\n",
       "    </tr>\n",
       "    <tr>\n",
       "      <th>557</th>\n",
       "      <td>887</td>\n",
       "      <td>NaN</td>\n",
       "      <td>NaN</td>\n",
       "      <td>de Mulder, Mr. Theodore</td>\n",
       "      <td>NaN</td>\n",
       "      <td>NaN</td>\n",
       "      <td>NaN</td>\n",
       "      <td>NaN</td>\n",
       "      <td>NaN</td>\n",
       "      <td>NaN</td>\n",
       "      <td>NaN</td>\n",
       "      <td>NaN</td>\n",
       "    </tr>\n",
       "    <tr>\n",
       "      <th>558</th>\n",
       "      <td>888</td>\n",
       "      <td>NaN</td>\n",
       "      <td>NaN</td>\n",
       "      <td>de Pelsmaeker, Mr. Alfons</td>\n",
       "      <td>NaN</td>\n",
       "      <td>NaN</td>\n",
       "      <td>NaN</td>\n",
       "      <td>NaN</td>\n",
       "      <td>NaN</td>\n",
       "      <td>NaN</td>\n",
       "      <td>NaN</td>\n",
       "      <td>NaN</td>\n",
       "    </tr>\n",
       "    <tr>\n",
       "      <th>559</th>\n",
       "      <td>890</td>\n",
       "      <td>NaN</td>\n",
       "      <td>NaN</td>\n",
       "      <td>del Carlo, Mr. Sebastiano</td>\n",
       "      <td>NaN</td>\n",
       "      <td>NaN</td>\n",
       "      <td>NaN</td>\n",
       "      <td>NaN</td>\n",
       "      <td>NaN</td>\n",
       "      <td>NaN</td>\n",
       "      <td>NaN</td>\n",
       "      <td>NaN</td>\n",
       "    </tr>\n",
       "    <tr>\n",
       "      <th>560</th>\n",
       "      <td>891</td>\n",
       "      <td>NaN</td>\n",
       "      <td>NaN</td>\n",
       "      <td>van Melkebeke, Mr. Philemon</td>\n",
       "      <td>NaN</td>\n",
       "      <td>NaN</td>\n",
       "      <td>NaN</td>\n",
       "      <td>NaN</td>\n",
       "      <td>NaN</td>\n",
       "      <td>NaN</td>\n",
       "      <td>NaN</td>\n",
       "      <td>NaN</td>\n",
       "    </tr>\n",
       "  </tbody>\n",
       "</table>\n",
       "<p>561 rows × 12 columns</p>\n",
       "</div>"
      ],
      "text/plain": [
       "     PassengerId  Survived  Pclass  \\\n",
       "0              1       0.0     3.0   \n",
       "1              3       NaN     NaN   \n",
       "2              4       NaN     NaN   \n",
       "3              5       NaN     NaN   \n",
       "4              6       NaN     NaN   \n",
       "..           ...       ...     ...   \n",
       "556          885       NaN     NaN   \n",
       "557          887       NaN     NaN   \n",
       "558          888       NaN     NaN   \n",
       "559          890       NaN     NaN   \n",
       "560          891       NaN     NaN   \n",
       "\n",
       "                                             Name   Sex   Age  SibSp  Parch  \\\n",
       "0                             Abbing, Mr. Anthony  male  24.0    0.0    0.0   \n",
       "1                             Abelson, Mr. Samuel   NaN   NaN    NaN    NaN   \n",
       "2           Abelson, Mrs. Samuel (Hannah Wizosky)   NaN   NaN    NaN    NaN   \n",
       "3                  Adahl, Mr. Mauritz Nils Martin   NaN   NaN    NaN    NaN   \n",
       "4                                 Adams, Mr. John   NaN   NaN    NaN    NaN   \n",
       "..                                            ...   ...   ...    ...    ...   \n",
       "556  de Messemaeker, Mrs. Guillaume Joseph (Emma)   NaN   NaN    NaN    NaN   \n",
       "557                       de Mulder, Mr. Theodore   NaN   NaN    NaN    NaN   \n",
       "558                     de Pelsmaeker, Mr. Alfons   NaN   NaN    NaN    NaN   \n",
       "559                     del Carlo, Mr. Sebastiano   NaN   NaN    NaN    NaN   \n",
       "560                   van Melkebeke, Mr. Philemon   NaN   NaN    NaN    NaN   \n",
       "\n",
       "    Ticket  Fare    Cabin Embarked  \n",
       "0     LINE  8.05  B96 B98        S  \n",
       "1      NaN   NaN      NaN      NaN  \n",
       "2      NaN   NaN      NaN      NaN  \n",
       "3      NaN   NaN      NaN      NaN  \n",
       "4      NaN   NaN      NaN      NaN  \n",
       "..     ...   ...      ...      ...  \n",
       "556    NaN   NaN      NaN      NaN  \n",
       "557    NaN   NaN      NaN      NaN  \n",
       "558    NaN   NaN      NaN      NaN  \n",
       "559    NaN   NaN      NaN      NaN  \n",
       "560    NaN   NaN      NaN      NaN  \n",
       "\n",
       "[561 rows x 12 columns]"
      ]
     },
     "execution_count": 27,
     "metadata": {},
     "output_type": "execute_result"
    }
   ],
   "source": [
    "# Computing mode\n",
    "df.mode()"
   ]
  },
  {
   "cell_type": "markdown",
   "id": "8b4b4f92-c413-4102-be38-b95d0a841e73",
   "metadata": {},
   "source": [
    ">Report dispersions (variance, standard deviation, range) for key numerical columns."
   ]
  },
  {
   "cell_type": "code",
   "execution_count": 28,
   "id": "1309015c-a8bf-43f2-a347-be66b9b1b06a",
   "metadata": {},
   "outputs": [
    {
     "name": "stdout",
     "output_type": "stream",
     "text": [
      "PassengerId range 890\n",
      "Survived range 1\n",
      "Pclass range 2\n",
      "Age range 49.0\n",
      "SibSp range 2\n",
      "Parch range 0\n",
      "Fare range 53.1\n"
     ]
    }
   ],
   "source": [
    "# Computing the range for each feature\n",
    "for i in df:\n",
    "    try:\n",
    "        print(f'{i} range {df[i].max() - df[i].min()}')\n",
    "    except:\n",
    "        pass"
   ]
  },
  {
   "cell_type": "markdown",
   "id": "a1113a80-b502-415d-bdce-f2e3ae6fee8a",
   "metadata": {},
   "source": [
    "> From information above, the range of the data values of **PassengerId ** is **890**, while the minimum and maximum values are **1 and 891**. this means the data is spread around 3.6 cm in between those values. dst..."
   ]
  },
  {
   "cell_type": "code",
   "execution_count": 29,
   "id": "03747493-0468-4655-aee6-027f8f5ffedb",
   "metadata": {},
   "outputs": [
    {
     "data": {
      "text/plain": [
       "PassengerId    67554.357850\n",
       "Survived           0.204991\n",
       "Pclass             0.514311\n",
       "Age               77.151787\n",
       "SibSp              0.193914\n",
       "Parch              0.000000\n",
       "Fare             111.524449\n",
       "dtype: float64"
      ]
     },
     "execution_count": 29,
     "metadata": {},
     "output_type": "execute_result"
    }
   ],
   "source": [
    "# Computing the variance for each feature\n",
    "df.var(numeric_only=True)"
   ]
  },
  {
   "cell_type": "markdown",
   "id": "37f7cd36-6184-4efd-963f-3ad8714401c0",
   "metadata": {},
   "source": [
    ">The variance provides information about how spread out the values in a dataset are from their mean. **A high variance indicates a large variation among the values**, while a **low variance indicates a small variation**. Variance is often used in statistical analysis to gain insights into the distribution of data."
   ]
  },
  {
   "cell_type": "code",
   "execution_count": 30,
   "id": "42224a0f-e602-430b-98ac-7cd0d1193e66",
   "metadata": {
    "tags": []
   },
   "outputs": [
    {
     "data": {
      "text/plain": [
       "PassengerId    259.912212\n",
       "Survived         0.452759\n",
       "Pclass           0.717155\n",
       "Age              8.783609\n",
       "SibSp            0.440357\n",
       "Parch            0.000000\n",
       "Fare            10.560514\n",
       "dtype: float64"
      ]
     },
     "execution_count": 30,
     "metadata": {},
     "output_type": "execute_result"
    }
   ],
   "source": [
    "# Computing the standard deviation for each feature\n",
    "df.std(numeric_only=True)"
   ]
  },
  {
   "cell_type": "markdown",
   "id": "0f16e538-4be5-4342-965c-707bc956e0a5",
   "metadata": {},
   "source": [
    ">Providing standard deviation values for each numeric feature in the Titanic dataset. This information gives an overview of the spread and variability of values in each numeric feature."
   ]
  },
  {
   "cell_type": "markdown",
   "id": "5acc02e0-efc5-423a-9dc3-3d8897aac2a3",
   "metadata": {},
   "source": [
    ">Analyze the distribution of key categorical variables, including counts and proportions."
   ]
  },
  {
   "cell_type": "code",
   "execution_count": 31,
   "id": "070c5821-97cc-4c32-b6d3-bd23a1e9e339",
   "metadata": {
    "tags": []
   },
   "outputs": [
    {
     "name": "stdout",
     "output_type": "stream",
     "text": [
      "\n",
      "Distribution of Pclass:\n",
      "==============================\n",
      "Counts:\n",
      "3    366\n",
      "2    121\n",
      "1     74\n",
      "Name: Pclass, dtype: int64\n",
      "\n",
      "Proportions (%):\n",
      "3    65.24\n",
      "2    21.57\n",
      "1    13.19\n",
      "Name: Pclass, dtype: float64\n",
      "\n",
      "==============================\n",
      "\n",
      "Distribution of Sex:\n",
      "==============================\n",
      "Counts:\n",
      "male      422\n",
      "female    139\n",
      "Name: Sex, dtype: int64\n",
      "\n",
      "Proportions (%):\n",
      "male      75.22\n",
      "female    24.78\n",
      "Name: Sex, dtype: float64\n",
      "\n",
      "==============================\n",
      "\n",
      "Distribution of Embarked:\n",
      "==============================\n",
      "Counts:\n",
      "S    421\n",
      "C     76\n",
      "Q     64\n",
      "Name: Embarked, dtype: int64\n",
      "\n",
      "Proportions (%):\n",
      "S    75.04\n",
      "C    13.55\n",
      "Q    11.41\n",
      "Name: Embarked, dtype: float64\n",
      "\n",
      "==============================\n",
      "\n",
      "Distribution of Survived:\n",
      "==============================\n",
      "Counts:\n",
      "0    400\n",
      "1    161\n",
      "Name: Survived, dtype: int64\n",
      "\n",
      "Proportions (%):\n",
      "0    71.3\n",
      "1    28.7\n",
      "Name: Survived, dtype: float64\n",
      "\n",
      "==============================\n",
      "\n",
      "Distribution of SibSp:\n",
      "==============================\n",
      "Counts:\n",
      "0    465\n",
      "1     85\n",
      "2     11\n",
      "Name: SibSp, dtype: int64\n",
      "\n",
      "Proportions (%):\n",
      "0    82.89\n",
      "1    15.15\n",
      "2     1.96\n",
      "Name: SibSp, dtype: float64\n",
      "\n",
      "==============================\n",
      "\n",
      "Distribution of Parch:\n",
      "==============================\n",
      "Counts:\n",
      "0    561\n",
      "Name: Parch, dtype: int64\n",
      "\n",
      "Proportions (%):\n",
      "0    100.0\n",
      "Name: Parch, dtype: float64\n",
      "\n",
      "==============================\n",
      "\n",
      "Distribution of Cabin:\n",
      "==============================\n",
      "Counts:\n",
      "B96 B98        491\n",
      "D                3\n",
      "F33              3\n",
      "E101             3\n",
      "D17              2\n",
      "E8               2\n",
      "E24              2\n",
      "C126             2\n",
      "C123             2\n",
      "C124             2\n",
      "E25              2\n",
      "C52              2\n",
      "F G73            2\n",
      "A32              1\n",
      "D30              1\n",
      "E58              1\n",
      "B71              1\n",
      "F G63            1\n",
      "A6               1\n",
      "C90              1\n",
      "D56              1\n",
      "D45              1\n",
      "F38              1\n",
      "D19              1\n",
      "D6               1\n",
      "E46              1\n",
      "A36              1\n",
      "B102             1\n",
      "C47              1\n",
      "E17              1\n",
      "A24              1\n",
      "B51 B53 B55      1\n",
      "B42              1\n",
      "B50              1\n",
      "A10              1\n",
      "B4               1\n",
      "E10              1\n",
      "A31              1\n",
      "B94              1\n",
      "A19              1\n",
      "C49              1\n",
      "C106             1\n",
      "C110             1\n",
      "T                1\n",
      "C128             1\n",
      "C104             1\n",
      "C101             1\n",
      "C111             1\n",
      "D21              1\n",
      "E12              1\n",
      "E63              1\n",
      "A14              1\n",
      "D46              1\n",
      "B38              1\n",
      "A16              1\n",
      "C148             1\n",
      "Name: Cabin, dtype: int64\n",
      "\n",
      "Proportions (%):\n",
      "B96 B98        87.52\n",
      "D               0.53\n",
      "F33             0.53\n",
      "E101            0.53\n",
      "D17             0.36\n",
      "E8              0.36\n",
      "E24             0.36\n",
      "C126            0.36\n",
      "C123            0.36\n",
      "C124            0.36\n",
      "E25             0.36\n",
      "C52             0.36\n",
      "F G73           0.36\n",
      "A32             0.18\n",
      "D30             0.18\n",
      "E58             0.18\n",
      "B71             0.18\n",
      "F G63           0.18\n",
      "A6              0.18\n",
      "C90             0.18\n",
      "D56             0.18\n",
      "D45             0.18\n",
      "F38             0.18\n",
      "D19             0.18\n",
      "D6              0.18\n",
      "E46             0.18\n",
      "A36             0.18\n",
      "B102            0.18\n",
      "C47             0.18\n",
      "E17             0.18\n",
      "A24             0.18\n",
      "B51 B53 B55     0.18\n",
      "B42             0.18\n",
      "B50             0.18\n",
      "A10             0.18\n",
      "B4              0.18\n",
      "E10             0.18\n",
      "A31             0.18\n",
      "B94             0.18\n",
      "A19             0.18\n",
      "C49             0.18\n",
      "C106            0.18\n",
      "C110            0.18\n",
      "T               0.18\n",
      "C128            0.18\n",
      "C104            0.18\n",
      "C101            0.18\n",
      "C111            0.18\n",
      "D21             0.18\n",
      "E12             0.18\n",
      "E63             0.18\n",
      "A14             0.18\n",
      "D46             0.18\n",
      "B38             0.18\n",
      "A16             0.18\n",
      "C148            0.18\n",
      "Name: Cabin, dtype: float64\n",
      "\n",
      "==============================\n"
     ]
    }
   ],
   "source": [
    "# Variabel kategorikal yang akan dianalisis\n",
    "categorical_variables = ['Pclass', 'Sex', 'Embarked', 'Survived', 'SibSp', 'Parch', 'Cabin']\n",
    "\n",
    "# Analisis distribusi\n",
    "for variable in categorical_variables:\n",
    "    # Hitung jumlah dan proporsi\n",
    "    counts = df[variable].value_counts()\n",
    "    proportions = df[variable].value_counts(normalize=True).mul(100).round(2)\n",
    "\n",
    "# Tampilkan hasil secara terstruktur\n",
    "    print(f\"\\nDistribution of {variable}:\")\n",
    "    print(\"==============================\")\n",
    "    print(\"Counts:\")\n",
    "    print(counts)\n",
    "    print(\"\\nProportions (%):\")\n",
    "    print(proportions)\n",
    "    print(\"\\n\" + \"=\"*30)  # Garis pembatas antar distribusi"
   ]
  },
  {
   "cell_type": "markdown",
   "id": "1897ad6d-5c39-47e7-a17f-803c093a383d",
   "metadata": {},
   "source": [
    ">By doing this, we can understand the distribution of data on specific categorical variables, see the most common values, and gain insights into how these categories are distributed in the dataset."
   ]
  },
  {
   "cell_type": "markdown",
   "id": "eedce4ac-a381-4902-b28f-d05c3638a3bb",
   "metadata": {},
   "source": [
    ">Use histograms, box plots, and bar charts to visualize distributions and relationships of key variables."
   ]
  },
  {
   "cell_type": "code",
   "execution_count": 32,
   "id": "832464b7-fcec-46c1-91ee-0eeda30a540e",
   "metadata": {},
   "outputs": [
    {
     "data": {
      "image/png": "[encoded data removed]",
      "text/plain": [
       "<Figure size 1000x600 with 1 Axes>"
      ]
     },
     "metadata": {},
     "output_type": "display_data"
    },
    {
     "data": {
      "image/png": "[encoded data removed]",
      "text/plain": [
       "<Figure size 1000x600 with 1 Axes>"
      ]
     },
     "metadata": {},
     "output_type": "display_data"
    },
    {
     "data": {
      "image/png": "[encoded data removed]",
      "text/plain": [
       "<Figure size 800x500 with 1 Axes>"
      ]
     },
     "metadata": {},
     "output_type": "display_data"
    }
   ],
   "source": [
    "# Set style for seaborn\n",
    "sns.set(style=\"whitegrid\")\n",
    "\n",
    "# Histogram for Age\n",
    "plt.figure(figsize=(10, 6))\n",
    "sns.histplot(df['Age'], bins=30, kde=True, color='skyblue')\n",
    "plt.title('Distribution of Age')\n",
    "plt.xlabel('Age')\n",
    "plt.ylabel('Frequency')\n",
    "plt.show()\n",
    "\n",
    "# Box plot for Fare by Pclass\n",
    "plt.figure(figsize=(10, 6))\n",
    "sns.boxplot(x='Pclass', y='Fare', data=df, palette='viridis')\n",
    "plt.title('Box Plot of Fare by Pclass')\n",
    "plt.xlabel('Pclass')\n",
    "plt.ylabel('Fare')\n",
    "plt.show()\n",
    "\n",
    "# Bar chart for counts of Survived\n",
    "plt.figure(figsize=(8, 5))\n",
    "sns.countplot(x='Survived', data=df, palette='pastel')\n",
    "plt.title('Count of Survived (0 = No, 1 = Yes)')\n",
    "plt.xlabel('Survived')\n",
    "plt.ylabel('Count')\n",
    "plt.show()\n"
   ]
  },
  {
   "cell_type": "code",
   "execution_count": 33,
   "id": "14169e13-68a8-414a-a6e1-640f93ddbf58",
   "metadata": {
    "tags": []
   },
   "outputs": [
    {
     "data": {
      "text/plain": [
       "561"
      ]
     },
     "execution_count": 33,
     "metadata": {},
     "output_type": "execute_result"
    }
   ],
   "source": [
    "len(df)"
   ]
  },
  {
   "cell_type": "code",
   "execution_count": 34,
   "id": "78c87a6e-0722-4a4e-9c7e-ab331f93350c",
   "metadata": {
    "tags": []
   },
   "outputs": [
    {
     "data": {
      "text/plain": [
       "(561, 12)"
      ]
     },
     "execution_count": 34,
     "metadata": {},
     "output_type": "execute_result"
    }
   ],
   "source": [
    "df.shape"
   ]
  },
  {
   "cell_type": "markdown",
   "id": "480bdef2-eebb-42a5-911e-6879c4368b1c",
   "metadata": {
    "id": "480bdef2-eebb-42a5-911e-6879c4368b1c"
   },
   "source": [
    "### 6. SUMMARY\n",
    "> Summarize the analysis process:\n",
    "> - Highlight key findings from the descriptive analysis.\n",
    "> - Highlight any challenges encountered during the analysis and how they were addressed. (optional)\n",
    "> - Provide potential insights or observations based on the analysis. (optional)"
   ]
  },
  {
   "cell_type": "markdown",
   "id": "ca9992a0-d972-4dbc-9af2-8f87edbf68c2",
   "metadata": {
    "id": "90348e4c-bfae-4667-972f-a8dd00fb3f14"
   },
   "source": [
    ">Based on the descriptive analysis, here are the key findings:\n",
    ">1. **Passenger Class (Pclass)**: The majority of passengers are in Class 3 (approximately 65.24%), followed by Class 2 (approximately 21.57%) and Class 1 (approximately 13.19%).\n",
    ">2. **Gender (Sex)**: The dataset consists of more male passengers (approximately 75.22%) than female passengers (approximately 24.78%).\n",
    ">3. **Embarked Port (Embarked)**: Most passengers boarded the ship from Southampton (S) with a proportion of around 75.04%, followed by Cherbourg (C) with approximately 13.55%, and Queenstown (Q) with around 11.41%.\n",
    ">4. **Survival Status (Survived)**: About 71.30% of passengers did not survive (Survived = 0), while approximately 28.70% survived (Survived = 1).\n",
    ">5. **Siblings/Spouses (SibSp)**: The majority of passengers (82.89%) traveled without siblings or spouses (SibSp = 0).\n",
    ">6. **Parents/Children (Parch)**: All passengers in the dataset have Parch = 0, indicating that they were not traveling with parents or children.\n",
    ">7. **Cabin**: The dataset has a wide variety of cabin values, with 'B96 B98' being the most common (87.52%).\n",
    ">\n",
    ">These findings provide a comprehensive overview of the distribution of key variables in the Titanic dataset, offering insights into the demographics and characteristics of the passengers."
   ]
  }
 ],
 "metadata": {
  "colab": {
   "provenance": []
  },
  "kernelspec": {
   "display_name": "Python 3 (ipykernel)",
   "language": "python",
   "name": "python3"
  },
  "language_info": {
   "codemirror_mode": {
    "name": "ipython",
    "version": 3
   },
   "file_extension": ".py",
   "mimetype": "text/x-python",
   "name": "python",
   "nbconvert_exporter": "python",
   "pygments_lexer": "ipython3",
   "version": "3.11.4"
  }
 },
 "nbformat": 4,
 "nbformat_minor": 5
}
