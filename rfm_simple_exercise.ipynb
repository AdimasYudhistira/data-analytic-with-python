{
 "cells": [
  {
   "cell_type": "code",
   "execution_count": 1,
   "id": "3158d56c-a37d-48e9-9a19-bbf481c05042",
   "metadata": {
    "tags": []
   },
   "outputs": [],
   "source": [
    "# Liblary\n",
    "\n",
    "# Basic Operation\n",
    "import numpy as np\n",
    "import pandas as pd\n",
    "\n",
    "# Data Visualization\n",
    "import seaborn as sns\n",
    "import matplotlib.pyplot as plt\n",
    "from sklearn.datasets import load_iris\n",
    "\n",
    "from statsmodels.stats.weightstats import ztest\n",
    "\n",
    "# ignore warnings\n",
    "import warnings\n",
    "warnings.filterwarnings(\"ignore\")"
   ]
  },
  {
   "cell_type": "code",
   "execution_count": 4,
   "id": "0bddad1b-6f45-40f3-99ca-e64e7765cf24",
   "metadata": {
    "tags": []
   },
   "outputs": [],
   "source": [
    "df = pd.read_csv(\"data/rfm_data.csv\")"
   ]
  },
  {
   "cell_type": "code",
   "execution_count": 5,
   "id": "958e8d90-b967-4a65-8507-3d438ea5988b",
   "metadata": {
    "tags": []
   },
   "outputs": [
    {
     "name": "stdout",
     "output_type": "stream",
     "text": [
      "<class 'pandas.core.frame.DataFrame'>\n",
      "RangeIndex: 1000 entries, 0 to 999\n",
      "Data columns (total 6 columns):\n",
      " #   Column              Non-Null Count  Dtype  \n",
      "---  ------              --------------  -----  \n",
      " 0   CustomerID          1000 non-null   int64  \n",
      " 1   PurchaseDate        1000 non-null   object \n",
      " 2   TransactionAmount   1000 non-null   float64\n",
      " 3   ProductInformation  1000 non-null   object \n",
      " 4   OrderID             1000 non-null   int64  \n",
      " 5   Location            1000 non-null   object \n",
      "dtypes: float64(1), int64(2), object(3)\n",
      "memory usage: 47.0+ KB\n"
     ]
    }
   ],
   "source": [
    "df.info()"
   ]
  },
  {
   "cell_type": "markdown",
   "id": "96546765-8b3a-43e6-b6c4-318758f3a155",
   "metadata": {},
   "source": [
    "## PREPROCESSING\n",
    "### GET RFM VALUES"
   ]
  },
  {
   "cell_type": "code",
   "execution_count": 6,
   "id": "e5570104-f348-44b4-b916-73166a5d4721",
   "metadata": {
    "tags": []
   },
   "outputs": [],
   "source": [
    "# Check last date\n",
    "max_date = pd.to_datetime(df[\"PurchaseDate\"].max())"
   ]
  },
  {
   "cell_type": "code",
   "execution_count": 7,
   "id": "70061699-7905-4694-ad70-1cb867b1e40a",
   "metadata": {
    "tags": []
   },
   "outputs": [],
   "source": [
    "# Insert to dataframe\n",
    "df[\"LastPurchase\"] = max_date"
   ]
  },
  {
   "cell_type": "code",
   "execution_count": 8,
   "id": "88613251-791d-4d5a-8fcc-a2500444b97b",
   "metadata": {
    "tags": []
   },
   "outputs": [],
   "source": [
    "# Change to datetime\n",
    "df[\"PurchaseDate\"] = pd.to_datetime(df[\"PurchaseDate\"])"
   ]
  },
  {
   "cell_type": "code",
   "execution_count": 9,
   "id": "998d9e71-ebe7-4570-9f79-e2caf9e27ef2",
   "metadata": {
    "tags": []
   },
   "outputs": [],
   "source": [
    "# Get recency\n",
    "df[\"Recency\"] = df[\"LastPurchase\"] - df[\"PurchaseDate\"]\n",
    "df[\"Recency\"] = df[\"Recency\"].dt.days"
   ]
  },
  {
   "cell_type": "code",
   "execution_count": 10,
   "id": "3c36de42-796b-4390-9c0d-83f496632093",
   "metadata": {
    "tags": []
   },
   "outputs": [],
   "source": [
    "# Get frequency\n",
    "freq = df.groupby(\"CustomerID\", as_index=False)[\"OrderID\"].count()\n",
    "freq = freq.rename(columns={\"OrderID\":\"Frequency\"})"
   ]
  },
  {
   "cell_type": "code",
   "execution_count": 11,
   "id": "85b4ac49-0572-4dbb-9aa9-6cf3e8c30a04",
   "metadata": {
    "tags": []
   },
   "outputs": [],
   "source": [
    "# Merge Frequency vals to original af\n",
    "df_new = pd.merge(df, freq, on =\"CustomerID\")"
   ]
  },
  {
   "cell_type": "code",
   "execution_count": 12,
   "id": "f100198a-f88c-48d2-82fb-57211f383bf6",
   "metadata": {
    "tags": []
   },
   "outputs": [],
   "source": [
    "# get Monetary\n",
    "mone = df.groupby(\"CustomerID\", as_index =False)[\"TransactionAmount\"].sum()\n",
    "mone = mone.rename(columns={\"TransactionAmount\":\"Monetary\"})"
   ]
  },
  {
   "cell_type": "code",
   "execution_count": 13,
   "id": "c514781b-bb52-4baf-bce0-c1afc4084c47",
   "metadata": {
    "tags": []
   },
   "outputs": [],
   "source": [
    "# merge monetary vals to original af\n",
    "df_rfm = pd.merge(df_new,mone,on =\"CustomerID\")"
   ]
  },
  {
   "cell_type": "code",
   "execution_count": 14,
   "id": "e653e769-c178-4f4d-84a0-3d23670271f8",
   "metadata": {
    "tags": []
   },
   "outputs": [
    {
     "data": {
      "text/html": [
       "<div>\n",
       "<style scoped>\n",
       "    .dataframe tbody tr th:only-of-type {\n",
       "        vertical-align: middle;\n",
       "    }\n",
       "\n",
       "    .dataframe tbody tr th {\n",
       "        vertical-align: top;\n",
       "    }\n",
       "\n",
       "    .dataframe thead th {\n",
       "        text-align: right;\n",
       "    }\n",
       "</style>\n",
       "<table border=\"1\" class=\"dataframe\">\n",
       "  <thead>\n",
       "    <tr style=\"text-align: right;\">\n",
       "      <th></th>\n",
       "      <th>CustomerID</th>\n",
       "      <th>PurchaseDate</th>\n",
       "      <th>TransactionAmount</th>\n",
       "      <th>ProductInformation</th>\n",
       "      <th>OrderID</th>\n",
       "      <th>Location</th>\n",
       "      <th>LastPurchase</th>\n",
       "      <th>Recency</th>\n",
       "      <th>Frequency</th>\n",
       "      <th>Monetary</th>\n",
       "    </tr>\n",
       "  </thead>\n",
       "  <tbody>\n",
       "    <tr>\n",
       "      <th>0</th>\n",
       "      <td>8814</td>\n",
       "      <td>2023-04-11</td>\n",
       "      <td>943.31</td>\n",
       "      <td>Product C</td>\n",
       "      <td>890075</td>\n",
       "      <td>Tokyo</td>\n",
       "      <td>2023-06-10</td>\n",
       "      <td>60</td>\n",
       "      <td>1</td>\n",
       "      <td>943.31</td>\n",
       "    </tr>\n",
       "    <tr>\n",
       "      <th>1</th>\n",
       "      <td>2188</td>\n",
       "      <td>2023-04-11</td>\n",
       "      <td>463.70</td>\n",
       "      <td>Product A</td>\n",
       "      <td>176819</td>\n",
       "      <td>London</td>\n",
       "      <td>2023-06-10</td>\n",
       "      <td>60</td>\n",
       "      <td>1</td>\n",
       "      <td>463.70</td>\n",
       "    </tr>\n",
       "    <tr>\n",
       "      <th>2</th>\n",
       "      <td>4608</td>\n",
       "      <td>2023-04-11</td>\n",
       "      <td>80.28</td>\n",
       "      <td>Product A</td>\n",
       "      <td>340062</td>\n",
       "      <td>New York</td>\n",
       "      <td>2023-06-10</td>\n",
       "      <td>60</td>\n",
       "      <td>1</td>\n",
       "      <td>80.28</td>\n",
       "    </tr>\n",
       "    <tr>\n",
       "      <th>3</th>\n",
       "      <td>2559</td>\n",
       "      <td>2023-04-11</td>\n",
       "      <td>221.29</td>\n",
       "      <td>Product A</td>\n",
       "      <td>239145</td>\n",
       "      <td>London</td>\n",
       "      <td>2023-06-10</td>\n",
       "      <td>60</td>\n",
       "      <td>1</td>\n",
       "      <td>221.29</td>\n",
       "    </tr>\n",
       "    <tr>\n",
       "      <th>4</th>\n",
       "      <td>9482</td>\n",
       "      <td>2023-04-11</td>\n",
       "      <td>739.56</td>\n",
       "      <td>Product A</td>\n",
       "      <td>194545</td>\n",
       "      <td>Paris</td>\n",
       "      <td>2023-06-10</td>\n",
       "      <td>60</td>\n",
       "      <td>1</td>\n",
       "      <td>739.56</td>\n",
       "    </tr>\n",
       "  </tbody>\n",
       "</table>\n",
       "</div>"
      ],
      "text/plain": [
       "   CustomerID PurchaseDate  TransactionAmount ProductInformation  OrderID  \\\n",
       "0        8814   2023-04-11             943.31          Product C   890075   \n",
       "1        2188   2023-04-11             463.70          Product A   176819   \n",
       "2        4608   2023-04-11              80.28          Product A   340062   \n",
       "3        2559   2023-04-11             221.29          Product A   239145   \n",
       "4        9482   2023-04-11             739.56          Product A   194545   \n",
       "\n",
       "   Location LastPurchase  Recency  Frequency  Monetary  \n",
       "0     Tokyo   2023-06-10       60          1    943.31  \n",
       "1    London   2023-06-10       60          1    463.70  \n",
       "2  New York   2023-06-10       60          1     80.28  \n",
       "3    London   2023-06-10       60          1    221.29  \n",
       "4     Paris   2023-06-10       60          1    739.56  "
      ]
     },
     "execution_count": 14,
     "metadata": {},
     "output_type": "execute_result"
    }
   ],
   "source": [
    "df_rfm.head()"
   ]
  },
  {
   "cell_type": "code",
   "execution_count": 15,
   "id": "39fe3337-420c-4f2a-88f2-976f62cdb3de",
   "metadata": {
    "tags": []
   },
   "outputs": [],
   "source": [
    "df_rfm.to_csv(\"result/df_rfm_cleaned.csv\")"
   ]
  },
  {
   "cell_type": "code",
   "execution_count": 17,
   "id": "04cbbd62-2e84-485c-a7e0-13168b6bb23c",
   "metadata": {
    "tags": []
   },
   "outputs": [
    {
     "data": {
      "text/html": [
       "<div>\n",
       "<style scoped>\n",
       "    .dataframe tbody tr th:only-of-type {\n",
       "        vertical-align: middle;\n",
       "    }\n",
       "\n",
       "    .dataframe tbody tr th {\n",
       "        vertical-align: top;\n",
       "    }\n",
       "\n",
       "    .dataframe thead th {\n",
       "        text-align: right;\n",
       "    }\n",
       "</style>\n",
       "<table border=\"1\" class=\"dataframe\">\n",
       "  <thead>\n",
       "    <tr style=\"text-align: right;\">\n",
       "      <th></th>\n",
       "      <th>Recency</th>\n",
       "      <th>Frequency</th>\n",
       "      <th>Monetary</th>\n",
       "    </tr>\n",
       "  </thead>\n",
       "  <tbody>\n",
       "    <tr>\n",
       "      <th>0.25</th>\n",
       "      <td>15.0</td>\n",
       "      <td>1.0</td>\n",
       "      <td>283.9250</td>\n",
       "    </tr>\n",
       "    <tr>\n",
       "      <th>0.50</th>\n",
       "      <td>32.0</td>\n",
       "      <td>1.0</td>\n",
       "      <td>566.7100</td>\n",
       "    </tr>\n",
       "    <tr>\n",
       "      <th>0.75</th>\n",
       "      <td>45.0</td>\n",
       "      <td>1.0</td>\n",
       "      <td>805.3725</td>\n",
       "    </tr>\n",
       "  </tbody>\n",
       "</table>\n",
       "</div>"
      ],
      "text/plain": [
       "      Recency  Frequency  Monetary\n",
       "0.25     15.0        1.0  283.9250\n",
       "0.50     32.0        1.0  566.7100\n",
       "0.75     45.0        1.0  805.3725"
      ]
     },
     "execution_count": 17,
     "metadata": {},
     "output_type": "execute_result"
    }
   ],
   "source": [
    "# Check quantile score\n",
    "df_rfm[[\"Recency\", \"Frequency\", \"Monetary\"]].quantile([0.25, 0.5, 0.75])"
   ]
  },
  {
   "cell_type": "code",
   "execution_count": 18,
   "id": "e70f8577-7be9-43e3-b5a6-4bdcb6ea22da",
   "metadata": {
    "tags": []
   },
   "outputs": [
    {
     "data": {
      "text/html": [
       "<div>\n",
       "<style scoped>\n",
       "    .dataframe tbody tr th:only-of-type {\n",
       "        vertical-align: middle;\n",
       "    }\n",
       "\n",
       "    .dataframe tbody tr th {\n",
       "        vertical-align: top;\n",
       "    }\n",
       "\n",
       "    .dataframe thead th {\n",
       "        text-align: right;\n",
       "    }\n",
       "</style>\n",
       "<table border=\"1\" class=\"dataframe\">\n",
       "  <thead>\n",
       "    <tr style=\"text-align: right;\">\n",
       "      <th></th>\n",
       "      <th>Recency</th>\n",
       "      <th>Frequency</th>\n",
       "      <th>Monetary</th>\n",
       "    </tr>\n",
       "  </thead>\n",
       "  <tbody>\n",
       "    <tr>\n",
       "      <th>0.2</th>\n",
       "      <td>12.0</td>\n",
       "      <td>1.0</td>\n",
       "      <td>224.450</td>\n",
       "    </tr>\n",
       "    <tr>\n",
       "      <th>0.4</th>\n",
       "      <td>25.0</td>\n",
       "      <td>1.0</td>\n",
       "      <td>456.494</td>\n",
       "    </tr>\n",
       "    <tr>\n",
       "      <th>0.6</th>\n",
       "      <td>37.0</td>\n",
       "      <td>1.0</td>\n",
       "      <td>668.238</td>\n",
       "    </tr>\n",
       "    <tr>\n",
       "      <th>0.8</th>\n",
       "      <td>47.2</td>\n",
       "      <td>1.0</td>\n",
       "      <td>848.916</td>\n",
       "    </tr>\n",
       "  </tbody>\n",
       "</table>\n",
       "</div>"
      ],
      "text/plain": [
       "     Recency  Frequency  Monetary\n",
       "0.2     12.0        1.0   224.450\n",
       "0.4     25.0        1.0   456.494\n",
       "0.6     37.0        1.0   668.238\n",
       "0.8     47.2        1.0   848.916"
      ]
     },
     "execution_count": 18,
     "metadata": {},
     "output_type": "execute_result"
    }
   ],
   "source": [
    "# Check quantile score\n",
    "df_rfm[[\"Recency\", \"Frequency\", \"Monetary\"]].quantile([0.2, 0.4, 0.6, 0.8])"
   ]
  },
  {
   "cell_type": "markdown",
   "id": "b3859e35-7b78-4d6b-8e8c-d3f00bb29567",
   "metadata": {
    "tags": []
   },
   "source": [
    "![](https://blog.rsquaredacademy.com/img/rfm_segments_table.png)"
   ]
  }
 ],
 "metadata": {
  "kernelspec": {
   "display_name": "Python 3 (ipykernel)",
   "language": "python",
   "name": "python3"
  },
  "language_info": {
   "codemirror_mode": {
    "name": "ipython",
    "version": 3
   },
   "file_extension": ".py",
   "mimetype": "text/x-python",
   "name": "python",
   "nbconvert_exporter": "python",
   "pygments_lexer": "ipython3",
   "version": "3.11.4"
  }
 },
 "nbformat": 4,
 "nbformat_minor": 5
}
